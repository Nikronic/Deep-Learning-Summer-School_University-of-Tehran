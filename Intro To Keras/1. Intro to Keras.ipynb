{
 "cells": [
  {
   "cell_type": "markdown",
   "metadata": {},
   "source": [
    "## 0. What We Are Going To Do:\n",
    "We are going to classify images of handwritten digits (MNIST dataset) using a fully-connected neural network.\n",
    "\n",
    "After successful training, our model will be able to guess the digit in the image.\n",
    "\n",
    "IMPORTANT NOTE: Some part of the code is already completed. Do not delete them!"
   ]
  },
  {
   "cell_type": "markdown",
   "metadata": {},
   "source": [
    "** In this section we import all the packages you need(You may edit & rerun this part later)**\n",
    "\n",
    "Note: You can also import classes/functions within a package directly (e.g. from keras.layers import Dense).\n"
   ]
  },
  {
   "cell_type": "code",
   "execution_count": 1,
   "metadata": {},
   "outputs": [
    {
     "name": "stderr",
     "output_type": "stream",
     "text": [
      "Using TensorFlow backend.\n"
     ]
    }
   ],
   "source": [
    "import keras\n",
    "import matplotlib.pyplot as plt #This package is for plotting\n",
    "%matplotlib inline  \n",
    "import numpy as np\n",
    "from keras.datasets import mnist\n",
    "from keras.models import Sequential\n",
    "from keras.layers import Dense, Input\n",
    "from keras.optimizers import SGD\n",
    "from keras.initializers import RandomNormal\n",
    "from keras.models import load_model"
   ]
  },
  {
   "cell_type": "code",
   "execution_count": 2,
   "metadata": {},
   "outputs": [],
   "source": [
    "import pandas as pd\n",
    "import random"
   ]
  },
  {
   "cell_type": "markdown",
   "metadata": {},
   "source": [
    "## 1. Prepare Data:\n",
    "\n",
    "The dataset is loaded in this section. \n",
    "\n",
    "**1-0. Check the dimensions of data and its minimum & maximum.**\n",
    "\n",
    "Note: You should paste the dataset file in '~/.keras/datasets/' directory or it will start downloading it."
   ]
  },
  {
   "cell_type": "code",
   "execution_count": 3,
   "metadata": {},
   "outputs": [],
   "source": [
    "(x_train, y_train), (x_test, y_test) = mnist.load_data()"
   ]
  },
  {
   "cell_type": "code",
   "execution_count": 4,
   "metadata": {},
   "outputs": [
    {
     "name": "stdout",
     "output_type": "stream",
     "text": [
      "train data dim: (60000, 28, 28)\n",
      "test data dim: (10000, 28, 28)\n",
      "train examples: 60000\n",
      "test examples: 10000\n",
      "x_train => max : 255 , min : 0\n",
      "x_test => max : 255 , min : 0\n"
     ]
    }
   ],
   "source": [
    "print('train data dim:', x_train.shape)\n",
    "# Print x_test and y_test dimensions\n",
    "print('test data dim:', x_test.shape)\n",
    "\n",
    "# Question: How many train/test samples does it have?\n",
    "print('train examples:',len(x_train))\n",
    "print('test examples:',len(x_test))\n",
    "# Print the minimum and maximum of x_train and x_test(use numpy min and max functions)\n",
    "print('x_train => max : {} , min : {}'.format(np.max(x_train),np.min(x_train)))\n",
    "print('x_test => max : {} , min : {}'.format(np.max(x_test),np.min(x_test)))"
   ]
  },
  {
   "cell_type": "markdown",
   "metadata": {},
   "source": [
    "** 1-1. Check a random sample of train data and its label. **"
   ]
  },
  {
   "cell_type": "code",
   "execution_count": 5,
   "metadata": {},
   "outputs": [
    {
     "data": {
      "image/png": "[encoded data removed]",
      "text/plain": [
       "<Figure size 432x288 with 1 Axes>"
      ]
     },
     "metadata": {},
     "output_type": "display_data"
    },
    {
     "name": "stdout",
     "output_type": "stream",
     "text": [
      "3\n"
     ]
    }
   ],
   "source": [
    "# generate a random number. (use numpy random.randint)\n",
    "rand_num = np.random.randint(1,59999)\n",
    "# plot using plt.imshow() & plt.show()\n",
    "plt.imshow(x_train[rand_num],cmap='gray')\n",
    "plt.show()\n",
    "# print its label\n",
    "print(y_train[rand_num])"
   ]
  },
  {
   "cell_type": "markdown",
   "metadata": {},
   "source": [
    "**1-2. Our Network accept 1D data. So we should flatten our 2D image, then print the dimension of the result arrays.**\n",
    "\n",
    "Use numpy reshape function.\n"
   ]
  },
  {
   "cell_type": "code",
   "execution_count": 6,
   "metadata": {},
   "outputs": [],
   "source": [
    "# Reshape x_train and x_test using numpy reshape function\n",
    "x_train = x_train.reshape(-1,28*28)\n",
    "x_test = x_test.reshape(-1,28*28)"
   ]
  },
  {
   "cell_type": "markdown",
   "metadata": {},
   "source": [
    "** 1-3. Normalize data by rescaling them to (0,1) **"
   ]
  },
  {
   "cell_type": "code",
   "execution_count": 7,
   "metadata": {},
   "outputs": [
    {
     "data": {
      "text/plain": [
       "1.0"
      ]
     },
     "execution_count": 7,
     "metadata": {},
     "output_type": "execute_result"
    }
   ],
   "source": [
    "# normalize x_train and x_test by dividing them by max of x_train:\n",
    "x_train = x_train/np.max(x_train)\n",
    "x_test = x_test/np.max(x_train)\n",
    "np.max(x_train)"
   ]
  },
  {
   "cell_type": "markdown",
   "metadata": {},
   "source": [
    "** 1-4. Convert label arrays to 1-hot representation **"
   ]
  },
  {
   "cell_type": "code",
   "execution_count": 8,
   "metadata": {},
   "outputs": [
    {
     "data": {
      "text/plain": [
       "array([[ 0.,  0.,  0., ...,  0.,  0.,  0.],\n",
       "       [ 1.,  0.,  0., ...,  0.,  0.,  0.],\n",
       "       [ 0.,  0.,  0., ...,  0.,  0.,  0.],\n",
       "       ..., \n",
       "       [ 0.,  0.,  0., ...,  0.,  0.,  0.],\n",
       "       [ 0.,  0.,  0., ...,  0.,  0.,  0.],\n",
       "       [ 0.,  0.,  0., ...,  0.,  1.,  0.]], dtype=float32)"
      ]
     },
     "execution_count": 8,
     "metadata": {},
     "output_type": "execute_result"
    }
   ],
   "source": [
    "# Use keras.utils.to_categorical\n",
    "y_train= keras.utils.to_categorical(y_train, num_classes=10)\n",
    "y_train"
   ]
  },
  {
   "cell_type": "code",
   "execution_count": 9,
   "metadata": {},
   "outputs": [
    {
     "data": {
      "text/plain": [
       "array([[ 0.,  0.,  0., ...,  1.,  0.,  0.],\n",
       "       [ 0.,  0.,  1., ...,  0.,  0.,  0.],\n",
       "       [ 0.,  1.,  0., ...,  0.,  0.,  0.],\n",
       "       ..., \n",
       "       [ 0.,  0.,  0., ...,  0.,  0.,  0.],\n",
       "       [ 0.,  0.,  0., ...,  0.,  0.,  0.],\n",
       "       [ 0.,  0.,  0., ...,  0.,  0.,  0.]], dtype=float32)"
      ]
     },
     "execution_count": 9,
     "metadata": {},
     "output_type": "execute_result"
    }
   ],
   "source": [
    "y_test= keras.utils.to_categorical(y_test, num_classes=10)\n",
    "y_test"
   ]
  },
  {
   "cell_type": "markdown",
   "metadata": {},
   "source": [
    "## 2. Define Model"
   ]
  },
  {
   "cell_type": "markdown",
   "metadata": {},
   "source": [
    "** 2-0. Add the following layers to the network:**\n",
    "* Hidden Layer 1: Fully Conncted + Relu Activition (e.g. 512 Nuerons)\n",
    "* Hidden Layer 2: Fully Connected + Relu Activition (e.g. 512 Neurons)\n",
    "* Outout Layer: Fully Connected + Softmax Activition"
   ]
  },
  {
   "cell_type": "code",
   "execution_count": 10,
   "metadata": {},
   "outputs": [
    {
     "data": {
      "text/plain": [
       "(60000, 784)"
      ]
     },
     "execution_count": 10,
     "metadata": {},
     "output_type": "execute_result"
    }
   ],
   "source": [
    "x_train.shape"
   ]
  },
  {
   "cell_type": "code",
   "execution_count": 11,
   "metadata": {},
   "outputs": [],
   "source": [
    "model = Sequential()\n",
    "# Add the layers to model here.\n",
    "# Hidden Layer1: 512 Neurons+ relu activation + Normal Initialization mean=0, std = 0.1(RandomNormal). You Should define input shape for layer1\n",
    "model.add(Dense(512, activation='relu', input_shape=(784,), kernel_initializer= RandomNormal(0,0.1)))\n",
    "# Hidden Layer2: 512 Neurons+ relu activation + Normal Initialization mean=0, std = 0.1(RandomNormal).\n",
    "model.add(Dense(512, activation='relu', kernel_initializer= RandomNormal(0,0.1)))\n",
    "# Output Layer1: Question: How many neurons?what kind of activation function? + Normal Initialization mean=0, std = 0.1(RandomNormal).\n",
    "model.add(Dense(10, activation='softmax', kernel_initializer= RandomNormal(0,0.1)))"
   ]
  },
  {
   "cell_type": "markdown",
   "metadata": {},
   "source": [
    "** 2-1. Determine loss function, optimizer and metrics for the model **"
   ]
  },
  {
   "cell_type": "code",
   "execution_count": 12,
   "metadata": {},
   "outputs": [],
   "source": [
    "# define the optimizer and its learning rate\n",
    "sgd = SGD(lr=0.01)\n",
    "# Use categorical_crossentropy as loss function, and accuracy as one of the metrics (you may add other metrics too). \n",
    "# use model.compile to add the above parameters to the model\n",
    "model.compile(loss='categorical_crossentropy',\n",
    "              optimizer='sgd',\n",
    "              metrics=['accuracy'])"
   ]
  },
  {
   "cell_type": "markdown",
   "metadata": {},
   "source": [
    "** 2-2. Print the review of the model **"
   ]
  },
  {
   "cell_type": "code",
   "execution_count": 13,
   "metadata": {},
   "outputs": [
    {
     "name": "stdout",
     "output_type": "stream",
     "text": [
      "_________________________________________________________________\n",
      "Layer (type)                 Output Shape              Param #   \n",
      "=================================================================\n",
      "dense_1 (Dense)              (None, 512)               401920    \n",
      "_________________________________________________________________\n",
      "dense_2 (Dense)              (None, 512)               262656    \n",
      "_________________________________________________________________\n",
      "dense_3 (Dense)              (None, 10)                5130      \n",
      "=================================================================\n",
      "Total params: 669,706\n",
      "Trainable params: 669,706\n",
      "Non-trainable params: 0\n",
      "_________________________________________________________________\n"
     ]
    }
   ],
   "source": [
    "model.summary()\n",
    "# Here we saved the raw model without any training. we will use it later.\n",
    "model.save('raw_model.h5')"
   ]
  },
  {
   "cell_type": "markdown",
   "metadata": {},
   "source": [
    "## 3. Train And Evaluate Model. "
   ]
  },
  {
   "cell_type": "markdown",
   "metadata": {},
   "source": [
    "** 3-0. Train model on training data using model.fit for 3 epoch**"
   ]
  },
  {
   "cell_type": "code",
   "execution_count": 14,
   "metadata": {},
   "outputs": [
    {
     "name": "stdout",
     "output_type": "stream",
     "text": [
      "Train on 48000 samples, validate on 12000 samples\n",
      "Epoch 1/3\n",
      "48000/48000 [==============================] - 53s 1ms/step - loss: 0.4152 - acc: 0.8752 - val_loss: 0.2474 - val_acc: 0.9287\n",
      "Epoch 2/3\n",
      "48000/48000 [==============================] - 42s 877us/step - loss: 0.2169 - acc: 0.9369 - val_loss: 0.1983 - val_acc: 0.9408 - a\n",
      "Epoch 3/3\n",
      "48000/48000 [==============================] - 43s 898us/step - loss: 0.1696 - acc: 0.9511 - val_loss: 0.1685 - val_acc: 0.9515\n"
     ]
    },
    {
     "data": {
      "text/plain": [
       "<keras.callbacks.History at 0x2085d9997b8>"
      ]
     },
     "execution_count": 14,
     "metadata": {},
     "output_type": "execute_result"
    }
   ],
   "source": [
    "# Use model.fit to train the model. Following hyperparameters are suggested (but you may change them if you want):\n",
    "# batch_size = 32\n",
    "# epochs = 3\n",
    "# Validation data percentage: 20%\n",
    "# use verbose for logging the training\n",
    "model.fit(x = x_train, y= y_train, batch_size=32, epochs=3,\n",
    "          verbose=1, callbacks=None, validation_split=0.2, validation_data=None, shuffle=True,\n",
    "          class_weight=None, sample_weight=None, initial_epoch=0, steps_per_epoch=None, validation_steps=None)"
   ]
  },
  {
   "cell_type": "markdown",
   "metadata": {},
   "source": [
    "** 3-1. Evaluate model on test data using model.evaluate. Print the model accuracy on test set. **"
   ]
  },
  {
   "cell_type": "code",
   "execution_count": 15,
   "metadata": {},
   "outputs": [
    {
     "name": "stdout",
     "output_type": "stream",
     "text": [
      "10000/10000 [==============================] - 2s 172us/step\n"
     ]
    },
    {
     "data": {
      "text/plain": [
       "[0.81539250425100329, 0.94810000000000005]"
      ]
     },
     "execution_count": 15,
     "metadata": {},
     "output_type": "execute_result"
    }
   ],
   "source": [
    "model.evaluate(x=x_test, y=y_test, batch_size=None, verbose=1, sample_weight=None, steps=None)"
   ]
  },
  {
   "cell_type": "markdown",
   "metadata": {},
   "source": [
    "** 3-2. Save model **\n",
    "\n",
    "In Keras, you can save the model to a HDF5 file(.h5) and reload it later simply by model.save(filepath) and keras.models.load_model(filepath), respectively.\n",
    "\n",
    "The saved model contains:\n",
    "* the architecture of the model, allowing to re-create the model\n",
    "* the weights of the model\n",
    "* the training configuration (loss, optimizer)\n",
    "* the state of the optimizer, allowing to resume training exactly where you left off.\n"
   ]
  },
  {
   "cell_type": "code",
   "execution_count": 16,
   "metadata": {},
   "outputs": [],
   "source": [
    "# save model here:\n",
    "model.save('mlp.h5')\n",
    "# Delete model to make sure you reload it correctly:\n",
    "del model"
   ]
  },
  {
   "cell_type": "markdown",
   "metadata": {},
   "source": [
    "** 3-3. Load model and Predict label for a random image in train set. Verify predicted label by ploting the image. **"
   ]
  },
  {
   "cell_type": "code",
   "execution_count": 17,
   "metadata": {
    "scrolled": true
   },
   "outputs": [
    {
     "name": "stdout",
     "output_type": "stream",
     "text": [
      "[ 0.  0.  0.  0.  0.  0.  1.  0.  0.  0.]\n",
      "6\n",
      "6\n"
     ]
    }
   ],
   "source": [
    "# reload the model here:\n",
    "model = load_model('mlp.h5')\n",
    "# generate a random number. (use numpy random.randint) and use model.predict to predict its label. \n",
    "rand = np.random.randint(1,60000)\n",
    "img = x_train[rand]\n",
    "img = np.expand_dims(img,axis=0)\n",
    "pre_label= model.predict(img, batch_size=None, verbose=0, steps=None)\n",
    "index = np.argmax(pre_label)\n",
    "print(y_train[rand])\n",
    "print(np.argmax(y_train[rand]))\n",
    "# print its label\n",
    "print(index)"
   ]
  },
  {
   "cell_type": "markdown",
   "metadata": {},
   "source": [
    "** 3-4. Continue training + Callbacks **\n",
    "\n",
    "Please Examine how these callbacks work. you may add other callbacks to this list."
   ]
  },
  {
   "cell_type": "code",
   "execution_count": 18,
   "metadata": {},
   "outputs": [
    {
     "name": "stdout",
     "output_type": "stream",
     "text": [
      "Train on 48000 samples, validate on 12000 samples\n",
      "Epoch 1/10\n",
      "48000/48000 [==============================] - 40s 843us/step - loss: 0.1399 - acc: 0.9599 - val_loss: 0.1545 - val_acc: 0.9561\n",
      "Epoch 2/10\n",
      "48000/48000 [==============================] - 43s 891us/step - loss: 0.1200 - acc: 0.9665 - val_loss: 0.1380 - val_acc: 0.9593\n",
      "Epoch 3/10\n",
      "48000/48000 [==============================] - 45s 933us/step - loss: 0.1037 - acc: 0.9715 - val_loss: 0.1355 - val_acc: 0.9603\n",
      "Epoch 00003: early stopping\n"
     ]
    },
    {
     "data": {
      "image/png": "[encoded data removed]",
      "text/plain": [
       "<Figure size 360x216 with 1 Axes>"
      ]
     },
     "metadata": {},
     "output_type": "display_data"
    },
    {
     "data": {
      "image/png": "[encoded data removed]",
      "text/plain": [
       "<Figure size 360x216 with 1 Axes>"
      ]
     },
     "metadata": {},
     "output_type": "display_data"
    }
   ],
   "source": [
    "# We will use two callbacks here: EarlyStopping, CSVLogger (you may add other callbacks to this list)\n",
    "callback = [keras.callbacks.EarlyStopping(monitor='val_acc', verbose=1, min_delta=0.01, patience = 2, mode = 'max'),\n",
    "            keras.callbacks.CSVLogger('log.csv')]\n",
    "history = model.fit(x_train, y_train,\n",
    "                    batch_size = 32,\n",
    "                    epochs = 10,\n",
    "                    verbose = 1,\n",
    "                    validation_split = 0.2,\n",
    "                    callbacks = callback)\n",
    "\n",
    "plt.figure(figsize=(5,3))\n",
    "plt.plot(history.epoch,history.history['loss'])\n",
    "plt.title('loss')\n",
    "\n",
    "plt.figure(figsize=(5,3))\n",
    "plt.plot(history.epoch,history.history['acc'])\n",
    "plt.title('accuracy');"
   ]
  },
  {
   "cell_type": "markdown",
   "metadata": {},
   "source": [
    "## 4. Extras"
   ]
  },
  {
   "cell_type": "markdown",
   "metadata": {
    "collapsed": true
   },
   "source": [
    "** 4-0. Initialization is important! **\n",
    "\n",
    "Redefine Network, this time use mean=0 and std=1 for initialization.\n",
    "\n",
    "Then Try to fit the model.\n",
    "\n",
    "Repeat this with other initialization methods and parameters."
   ]
  },
  {
   "cell_type": "code",
   "execution_count": 23,
   "metadata": {},
   "outputs": [
    {
     "name": "stdout",
     "output_type": "stream",
     "text": [
      "10000/10000 [==============================] - 3s 324us/step\n"
     ]
    },
    {
     "data": {
      "text/plain": [
       "[14.573981651306152, 0.095799999999999996]"
      ]
     },
     "execution_count": 23,
     "metadata": {},
     "output_type": "execute_result"
    }
   ],
   "source": [
    "# bad model!!!\n",
    "# import new functions\n",
    "from keras.optimizers import Adagrad\n",
    "from keras.initializers import TruncatedNormal\n",
    "\n",
    "model2 = Sequential()\n",
    "# Add the layers to model here.\n",
    "model2.add(Dense(1024, activation='relu', input_shape=(784,), kernel_initializer= TruncatedNormal(0,1)))\n",
    "# Hidden Layer2: 512 Neurons+ relu activation + Normal Initialization mean=0, std = 0.1(RandomNormal).\n",
    "model2.add(Dense(512, activation='relu', kernel_initializer= TruncatedNormal(0,1)))\n",
    "# Output Layer1: Question: How many neurons?what kind of activation function? + Normal Initialization mean=0, std = 0.1(RandomNormal).\n",
    "model2.add(Dense(10, activation='softmax', kernel_initializer= TruncatedNormal(0,1)))\n",
    "\n",
    "# define the optimizer and its learning rate\n",
    "adagrad = Adagrad(lr=0.01, epsilon=None, decay=0.0)\n",
    "# Use categorical_crossentropy as loss function, and accuracy as one of the metrics (you may add other metrics too). \n",
    "# use model.compile to add the above parameters to the model\n",
    "model2.compile(loss='categorical_crossentropy',\n",
    "              optimizer=adagrad,\n",
    "              metrics=['accuracy'])\n",
    "\n",
    "# Use model.fit to train the model. Following hyperparameters are suggested (but you may change them if you want):\n",
    "# batch_size = 32\n",
    "# epochs = 3\n",
    "# Validation data percentage: 20%\n",
    "model2.fit(x = x_train, y= y_train, batch_size=32, epochs=3,\n",
    "          verbose=0, callbacks=None, validation_split=0.2, validation_data=None, shuffle=True,\n",
    "          class_weight=None, sample_weight=None, initial_epoch=0, steps_per_epoch=None, validation_steps=None)\n",
    "\n",
    "model2.evaluate(x=x_test, y=y_test, batch_size=None, verbose=1, sample_weight=None, steps=None)"
   ]
  },
  {
   "cell_type": "markdown",
   "metadata": {},
   "source": [
    "** 4-1. Overfitting/Underfitting **\n",
    "\n",
    "Load the 'raw_model.h5' and this time use 1 percent of training data for training, and all test data for validation.\n"
   ]
  },
  {
   "cell_type": "code",
   "execution_count": 25,
   "metadata": {},
   "outputs": [
    {
     "name": "stdout",
     "output_type": "stream",
     "text": [
      "Train on 480 samples, validate on 120 samples\n",
      "Epoch 1/3\n",
      "480/480 [==============================] - 1s 1ms/step - loss: 2.0917 - acc: 0.3229 - val_loss: 1.9402 - val_acc: 0.3250\n",
      "Epoch 2/3\n",
      "480/480 [==============================] - 0s 527us/step - loss: 1.1335 - acc: 0.6708 - val_loss: 1.5074 - val_acc: 0.5417\n",
      "Epoch 3/3\n",
      "480/480 [==============================] - 0s 489us/step - loss: 0.7875 - acc: 0.7729 - val_loss: 1.3289 - val_acc: 0.6000\n"
     ]
    },
    {
     "data": {
      "text/plain": [
       "[5.7772133167266846, 0.63639999999999997]"
      ]
     },
     "execution_count": 25,
     "metadata": {},
     "output_type": "execute_result"
    }
   ],
   "source": [
    "del model\n",
    "# Load model here and fit it with less data\n",
    "model = load_model('raw_model.h5')\n",
    "model.fit(x = x_train[0:int((len(x_train)/100)),], y= y_train[0:int((len(x_train)/100)),], batch_size=32, epochs=3, validation_split=0.2)\n",
    "model.evaluate(x=x_test, y=y_test, batch_size=None, verbose=0, sample_weight=None, steps=None)"
   ]
  },
  {
   "cell_type": "markdown",
   "metadata": {},
   "source": [
    "** We swee the model is underfitted!**"
   ]
  },
  {
   "cell_type": "markdown",
   "metadata": {},
   "source": [
    "Now create another fully-connected model with 1 hidden layer(5 Neurons). Use all training data for training this model. (10 Training epoch)\n",
    "\n",
    "Observe the result."
   ]
  },
  {
   "cell_type": "code",
   "execution_count": 26,
   "metadata": {},
   "outputs": [
    {
     "name": "stdout",
     "output_type": "stream",
     "text": [
      "Train on 48000 samples, validate on 12000 samples\n",
      "Epoch 1/3\n",
      "48000/48000 [==============================] - 3s 56us/step - loss: 2.7115 - acc: 0.2056 - val_loss: 2.1039 - val_acc: 0.2613\n",
      "Epoch 2/3\n",
      "48000/48000 [==============================] - 3s 55us/step - loss: 2.0464 - acc: 0.2692 - val_loss: 1.9671 - val_acc: 0.2988\n",
      "Epoch 3/3\n",
      "48000/48000 [==============================] - 3s 60us/step - loss: 1.9330 - acc: 0.3025 - val_loss: 1.8683 - val_acc: 0.3339\n"
     ]
    },
    {
     "data": {
      "text/plain": [
       "[8.5657068298339851, 0.25569999999999998]"
      ]
     },
     "execution_count": 26,
     "metadata": {},
     "output_type": "execute_result"
    }
   ],
   "source": [
    "model3 = Sequential()\n",
    "model3.add(Dense(5, activation='relu', input_shape=(784,), kernel_initializer= RandomNormal(0,1)))\n",
    "model3.add(Dense(10, activation='softmax', kernel_initializer= RandomNormal(0,1)))\n",
    "\n",
    "# define the optimizer and its learning rate\n",
    "sgd = SGD(lr=0.01)\n",
    "# Use categorical_crossentropy as loss function, and accuracy as one of the metrics (you may add other metrics too). \n",
    "# use model.compile to add the above parameters to the model\n",
    "model3.compile(loss='categorical_crossentropy',\n",
    "              optimizer=sgd,\n",
    "              metrics=['accuracy'])\n",
    "\n",
    "# Use model.fit to train the model. Following hyperparameters are suggested (but you may change them if you want):\n",
    "# batch_size = 32\n",
    "# epochs = 3\n",
    "# Validation data percentage: 20%\n",
    "model3.fit(x = x_train, y= y_train, batch_size=32, epochs=3,\n",
    "        validation_split=0.2, shuffle=True)\n",
    "\n",
    "model3.evaluate(x=x_test, y=y_test, batch_size=None, verbose=0, sample_weight=None, steps=None)"
   ]
  },
  {
   "cell_type": "markdown",
   "metadata": {},
   "source": [
    "**Not enough hidden layers and neurons!**"
   ]
  },
  {
   "cell_type": "code",
   "execution_count": null,
   "metadata": {},
   "outputs": [],
   "source": []
  }
 ],
 "metadata": {
  "kernelspec": {
   "display_name": "Python 3",
   "language": "python",
   "name": "python3"
  },
  "language_info": {
   "codemirror_mode": {
    "name": "ipython",
    "version": 3
   },
   "file_extension": ".py",
   "mimetype": "text/x-python",
   "name": "python",
   "nbconvert_exporter": "python",
   "pygments_lexer": "ipython3",
   "version": "3.6.6"
  }
 },
 "nbformat": 4,
 "nbformat_minor": 2
}
