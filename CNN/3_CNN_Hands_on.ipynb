{
 "cells": [
  {
   "cell_type": "markdown",
   "metadata": {
    "colab_type": "text",
    "id": "39KpvOvDY976"
   },
   "source": [
    "## Simple Convolutional Neural Network\n",
    "In this part, we learn to:\n",
    "- train a simple CNN on MNIST dataset."
   ]
  },
  {
   "cell_type": "markdown",
   "metadata": {
    "colab_type": "text",
    "id": "HR8ar9ITY977"
   },
   "source": [
    "### 1. Loading Essential Packages"
   ]
  },
  {
   "cell_type": "code",
   "execution_count": 1,
   "metadata": {
    "colab": {
     "autoexec": {
      "startup": false,
      "wait_interval": 0
     },
     "base_uri": "https://localhost:8080/",
     "height": 34
    },
    "colab_type": "code",
    "executionInfo": {
     "elapsed": 15427,
     "status": "ok",
     "timestamp": 1533209292899,
     "user": {
      "displayName": "Mohammad Doosti Lakhani",
      "photoUrl": "//lh5.googleusercontent.com/-UVQKn-_bjas/AAAAAAAAAAI/AAAAAAAAACc/Nr22-zVsFzc/s50-c-k-no/photo.jpg",
      "userId": "112537701770884493684"
     },
     "user_tz": -270
    },
    "id": "C34tpVnLY978",
    "outputId": "fcd23a5f-7b54-4a8d-882f-7f8ede9b6420"
   },
   "outputs": [
    {
     "name": "stderr",
     "output_type": "stream",
     "text": [
      "Using TensorFlow backend.\n"
     ]
    }
   ],
   "source": [
    "from __future__ import print_function\n",
    "import keras\n",
    "from keras.datasets import mnist\n",
    "from keras.models import Sequential\n",
    "from keras.layers import Dense, Dropout, Flatten\n",
    "from keras.layers import Conv2D, MaxPooling2D\n",
    "from keras import backend as K"
   ]
  },
  {
   "cell_type": "markdown",
   "metadata": {
    "colab_type": "text",
    "id": "FqnGRTbqY98C"
   },
   "source": [
    "### 2. Seting the hyper-parameters Value"
   ]
  },
  {
   "cell_type": "code",
   "execution_count": 0,
   "metadata": {
    "colab": {
     "autoexec": {
      "startup": false,
      "wait_interval": 0
     }
    },
    "colab_type": "code",
    "id": "0HArRH9qY98E"
   },
   "outputs": [],
   "source": [
    "batch_size = 128    # Here we define the batch size value\n",
    "num_classes = 10    # Assign the number of class exists in MNIST dataset\n",
    "epochs = 12       # Total Number of iteratin on mnist dataset \n",
    "img_rows, img_cols = 28, 28        # input image dimensions"
   ]
  },
  {
   "cell_type": "markdown",
   "metadata": {
    "colab_type": "text",
    "id": "J5wf7cvtY98H"
   },
   "source": [
    "### 3. Loading MNIST Dataset\n",
    "Uncomment bellow line and use mnist.load_data() function to load mnist dataset"
   ]
  },
  {
   "cell_type": "code",
   "execution_count": 3,
   "metadata": {
    "colab": {
     "autoexec": {
      "startup": false,
      "wait_interval": 0
     },
     "base_uri": "https://localhost:8080/",
     "height": 51
    },
    "colab_type": "code",
    "executionInfo": {
     "elapsed": 2892,
     "status": "ok",
     "timestamp": 1533209339994,
     "user": {
      "displayName": "Mohammad Doosti Lakhani",
      "photoUrl": "//lh5.googleusercontent.com/-UVQKn-_bjas/AAAAAAAAAAI/AAAAAAAAACc/Nr22-zVsFzc/s50-c-k-no/photo.jpg",
      "userId": "112537701770884493684"
     },
     "user_tz": -270
    },
    "id": "u5UUTTfBY98I",
    "outputId": "207f00c7-be9b-4382-ab05-61648dfcf2ce"
   },
   "outputs": [
    {
     "name": "stdout",
     "output_type": "stream",
     "text": [
      "Downloading data from https://s3.amazonaws.com/img-datasets/mnist.npz\n",
      "11493376/11490434 [==============================] - 1s 0us/step\n"
     ]
    }
   ],
   "source": [
    "# the data, split between train and test sets\n",
    "(x_train, y_train), (x_test, y_test) = mnist.load_data()"
   ]
  },
  {
   "cell_type": "code",
   "execution_count": 5,
   "metadata": {
    "colab": {
     "autoexec": {
      "startup": false,
      "wait_interval": 0
     },
     "base_uri": "https://localhost:8080/",
     "height": 7106
    },
    "colab_type": "code",
    "executionInfo": {
     "elapsed": 11713,
     "status": "ok",
     "timestamp": 1533209372045,
     "user": {
      "displayName": "Mohammad Doosti Lakhani",
      "photoUrl": "//lh5.googleusercontent.com/-UVQKn-_bjas/AAAAAAAAAAI/AAAAAAAAACc/Nr22-zVsFzc/s50-c-k-no/photo.jpg",
      "userId": "112537701770884493684"
     },
     "user_tz": -270
    },
    "id": "lBdhPzXyZirC",
    "outputId": "aa5e7b4a-c14f-4ea7-b74a-06bb5142770f"
   },
   "outputs": [
    {
     "name": "stdout",
     "output_type": "stream",
     "text": [
      "--2018-08-02 11:31:16--  https://download.pytorch.org/tutorial/hymenoptera_data.zip\n",
      "Resolving download.pytorch.org (download.pytorch.org)... 13.35.115.103, 13.35.115.56, 13.35.115.18, ...\n",
      "Connecting to download.pytorch.org (download.pytorch.org)|13.35.115.103|:443... connected.\n",
      "HTTP request sent, awaiting response... 200 OK\n",
      "Length: 47286322 (45M) [application/zip]\n",
      "Saving to: ‘hymenoptera_data.zip’\n",
      "\n",
      "hymenoptera_data.zi 100%[===================>]  45.10M  26.8MB/s    in 1.7s    \n",
      "\n",
      "2018-08-02 11:31:18 (26.8 MB/s) - ‘hymenoptera_data.zip’ saved [47286322/47286322]\n",
      "\n",
      "Archive:  hymenoptera_data.zip\n",
      "   creating: hymenoptera_data/\n",
      "   creating: hymenoptera_data/train/\n",
      "   creating: hymenoptera_data/train/ants/\n",
      "  inflating: hymenoptera_data/train/ants/0013035.jpg  \n",
      "  inflating: hymenoptera_data/train/ants/1030023514_aad5c608f9.jpg  \n",
      "  inflating: hymenoptera_data/train/ants/1095476100_3906d8afde.jpg  \n",
      "  inflating: hymenoptera_data/train/ants/1099452230_d1949d3250.jpg  \n",
      "  inflating: hymenoptera_data/train/ants/116570827_e9c126745d.jpg  \n",
      "  inflating: hymenoptera_data/train/ants/1225872729_6f0856588f.jpg  \n",
      "  inflating: hymenoptera_data/train/ants/1262877379_64fcada201.jpg  \n",
      "  inflating: hymenoptera_data/train/ants/1269756697_0bce92cdab.jpg  \n",
      "  inflating: hymenoptera_data/train/ants/1286984635_5119e80de1.jpg  \n",
      "  inflating: hymenoptera_data/train/ants/132478121_2a430adea2.jpg  \n",
      "  inflating: hymenoptera_data/train/ants/1360291657_dc248c5eea.jpg  \n",
      "  inflating: hymenoptera_data/train/ants/1368913450_e146e2fb6d.jpg  \n",
      "  inflating: hymenoptera_data/train/ants/1473187633_63ccaacea6.jpg  \n",
      "  inflating: hymenoptera_data/train/ants/148715752_302c84f5a4.jpg  \n",
      "  inflating: hymenoptera_data/train/ants/1489674356_09d48dde0a.jpg  \n",
      "  inflating: hymenoptera_data/train/ants/149244013_c529578289.jpg  \n",
      "  inflating: hymenoptera_data/train/ants/150801003_3390b73135.jpg  \n",
      "  inflating: hymenoptera_data/train/ants/150801171_cd86f17ed8.jpg  \n",
      "  inflating: hymenoptera_data/train/ants/154124431_65460430f2.jpg  \n",
      "  inflating: hymenoptera_data/train/ants/162603798_40b51f1654.jpg  \n",
      "  inflating: hymenoptera_data/train/ants/1660097129_384bf54490.jpg  \n",
      "  inflating: hymenoptera_data/train/ants/167890289_dd5ba923f3.jpg  \n",
      "  inflating: hymenoptera_data/train/ants/1693954099_46d4c20605.jpg  \n",
      "  inflating: hymenoptera_data/train/ants/175998972.jpg  \n",
      "  inflating: hymenoptera_data/train/ants/178538489_bec7649292.jpg  \n",
      "  inflating: hymenoptera_data/train/ants/1804095607_0341701e1c.jpg  \n",
      "  inflating: hymenoptera_data/train/ants/1808777855_2a895621d7.jpg  \n",
      "  inflating: hymenoptera_data/train/ants/188552436_605cc9b36b.jpg  \n",
      "  inflating: hymenoptera_data/train/ants/1917341202_d00a7f9af5.jpg  \n",
      "  inflating: hymenoptera_data/train/ants/1924473702_daa9aacdbe.jpg  \n",
      "  inflating: hymenoptera_data/train/ants/196057951_63bf063b92.jpg  \n",
      "  inflating: hymenoptera_data/train/ants/196757565_326437f5fe.jpg  \n",
      "  inflating: hymenoptera_data/train/ants/201558278_fe4caecc76.jpg  \n",
      "  inflating: hymenoptera_data/train/ants/201790779_527f4c0168.jpg  \n",
      "  inflating: hymenoptera_data/train/ants/2019439677_2db655d361.jpg  \n",
      "  inflating: hymenoptera_data/train/ants/207947948_3ab29d7207.jpg  \n",
      "  inflating: hymenoptera_data/train/ants/20935278_9190345f6b.jpg  \n",
      "  inflating: hymenoptera_data/train/ants/224655713_3956f7d39a.jpg  \n",
      "  inflating: hymenoptera_data/train/ants/2265824718_2c96f485da.jpg  \n",
      "  inflating: hymenoptera_data/train/ants/2265825502_fff99cfd2d.jpg  \n",
      "  inflating: hymenoptera_data/train/ants/226951206_d6bf946504.jpg  \n",
      "  inflating: hymenoptera_data/train/ants/2278278459_6b99605e50.jpg  \n",
      "  inflating: hymenoptera_data/train/ants/2288450226_a6e96e8fdf.jpg  \n",
      "  inflating: hymenoptera_data/train/ants/2288481644_83ff7e4572.jpg  \n",
      "  inflating: hymenoptera_data/train/ants/2292213964_ca51ce4bef.jpg  \n",
      "  inflating: hymenoptera_data/train/ants/24335309_c5ea483bb8.jpg  \n",
      "  inflating: hymenoptera_data/train/ants/245647475_9523dfd13e.jpg  \n",
      "  inflating: hymenoptera_data/train/ants/255434217_1b2b3fe0a4.jpg  \n",
      "  inflating: hymenoptera_data/train/ants/258217966_d9d90d18d3.jpg  \n",
      "  inflating: hymenoptera_data/train/ants/275429470_b2d7d9290b.jpg  \n",
      "  inflating: hymenoptera_data/train/ants/28847243_e79fe052cd.jpg  \n",
      "  inflating: hymenoptera_data/train/ants/318052216_84dff3f98a.jpg  \n",
      "  inflating: hymenoptera_data/train/ants/334167043_cbd1adaeb9.jpg  \n",
      "  inflating: hymenoptera_data/train/ants/339670531_94b75ae47a.jpg  \n",
      "  inflating: hymenoptera_data/train/ants/342438950_a3da61deab.jpg  \n",
      "  inflating: hymenoptera_data/train/ants/36439863_0bec9f554f.jpg  \n",
      "  inflating: hymenoptera_data/train/ants/374435068_7eee412ec4.jpg  \n",
      "  inflating: hymenoptera_data/train/ants/382971067_0bfd33afe0.jpg  \n",
      "  inflating: hymenoptera_data/train/ants/384191229_5779cf591b.jpg  \n",
      "  inflating: hymenoptera_data/train/ants/386190770_672743c9a7.jpg  \n",
      "  inflating: hymenoptera_data/train/ants/392382602_1b7bed32fa.jpg  \n",
      "  inflating: hymenoptera_data/train/ants/403746349_71384f5b58.jpg  \n",
      "  inflating: hymenoptera_data/train/ants/408393566_b5b694119b.jpg  \n",
      "  inflating: hymenoptera_data/train/ants/424119020_6d57481dab.jpg  \n",
      "  inflating: hymenoptera_data/train/ants/424873399_47658a91fb.jpg  \n",
      "  inflating: hymenoptera_data/train/ants/450057712_771b3bfc91.jpg  \n",
      "  inflating: hymenoptera_data/train/ants/45472593_bfd624f8dc.jpg  \n",
      "  inflating: hymenoptera_data/train/ants/459694881_ac657d3187.jpg  \n",
      "  inflating: hymenoptera_data/train/ants/460372577_f2f6a8c9fc.jpg  \n",
      "  inflating: hymenoptera_data/train/ants/460874319_0a45ab4d05.jpg  \n",
      "  inflating: hymenoptera_data/train/ants/466430434_4000737de9.jpg  \n",
      "  inflating: hymenoptera_data/train/ants/470127037_513711fd21.jpg  \n",
      "  inflating: hymenoptera_data/train/ants/474806473_ca6caab245.jpg  \n",
      "  inflating: hymenoptera_data/train/ants/475961153_b8c13fd405.jpg  \n",
      "  inflating: hymenoptera_data/train/ants/484293231_e53cfc0c89.jpg  \n",
      "  inflating: hymenoptera_data/train/ants/49375974_e28ba6f17e.jpg  \n",
      "  inflating: hymenoptera_data/train/ants/506249802_207cd979b4.jpg  \n",
      "  inflating: hymenoptera_data/train/ants/506249836_717b73f540.jpg  \n",
      "  inflating: hymenoptera_data/train/ants/512164029_c0a66b8498.jpg  \n",
      "  inflating: hymenoptera_data/train/ants/512863248_43c8ce579b.jpg  \n",
      "  inflating: hymenoptera_data/train/ants/518773929_734dbc5ff4.jpg  \n",
      "  inflating: hymenoptera_data/train/ants/522163566_fec115ca66.jpg  \n",
      "  inflating: hymenoptera_data/train/ants/522415432_2218f34bf8.jpg  \n",
      "  inflating: hymenoptera_data/train/ants/531979952_bde12b3bc0.jpg  \n",
      "  inflating: hymenoptera_data/train/ants/533848102_70a85ad6dd.jpg  \n",
      "  inflating: hymenoptera_data/train/ants/535522953_308353a07c.jpg  \n",
      "  inflating: hymenoptera_data/train/ants/540889389_48bb588b21.jpg  \n",
      "  inflating: hymenoptera_data/train/ants/541630764_dbd285d63c.jpg  \n",
      "  inflating: hymenoptera_data/train/ants/543417860_b14237f569.jpg  \n",
      "  inflating: hymenoptera_data/train/ants/560966032_988f4d7bc4.jpg  \n",
      "  inflating: hymenoptera_data/train/ants/5650366_e22b7e1065.jpg  \n",
      "  inflating: hymenoptera_data/train/ants/6240329_72c01e663e.jpg  \n",
      "  inflating: hymenoptera_data/train/ants/6240338_93729615ec.jpg  \n",
      "  inflating: hymenoptera_data/train/ants/649026570_e58656104b.jpg  \n",
      "  inflating: hymenoptera_data/train/ants/662541407_ff8db781e7.jpg  \n",
      "  inflating: hymenoptera_data/train/ants/67270775_e9fdf77e9d.jpg  \n",
      "  inflating: hymenoptera_data/train/ants/6743948_2b8c096dda.jpg  \n",
      "  inflating: hymenoptera_data/train/ants/684133190_35b62c0c1d.jpg  \n",
      "  inflating: hymenoptera_data/train/ants/69639610_95e0de17aa.jpg  \n",
      "  inflating: hymenoptera_data/train/ants/707895295_009cf23188.jpg  \n",
      "  inflating: hymenoptera_data/train/ants/7759525_1363d24e88.jpg  \n",
      "  inflating: hymenoptera_data/train/ants/795000156_a9900a4a71.jpg  \n",
      "  inflating: hymenoptera_data/train/ants/822537660_caf4ba5514.jpg  \n",
      "  inflating: hymenoptera_data/train/ants/82852639_52b7f7f5e3.jpg  \n",
      "  inflating: hymenoptera_data/train/ants/841049277_b28e58ad05.jpg  \n",
      "  inflating: hymenoptera_data/train/ants/886401651_f878e888cd.jpg  \n",
      "  inflating: hymenoptera_data/train/ants/892108839_f1aad4ca46.jpg  \n",
      "  inflating: hymenoptera_data/train/ants/938946700_ca1c669085.jpg  \n",
      "  inflating: hymenoptera_data/train/ants/957233405_25c1d1187b.jpg  \n",
      "  inflating: hymenoptera_data/train/ants/9715481_b3cb4114ff.jpg  \n",
      "  inflating: hymenoptera_data/train/ants/998118368_6ac1d91f81.jpg  \n",
      "  inflating: hymenoptera_data/train/ants/ant photos.jpg  \n",
      "  inflating: hymenoptera_data/train/ants/Ant_1.jpg  \n",
      "  inflating: hymenoptera_data/train/ants/army-ants-red-picture.jpg  \n",
      "  inflating: hymenoptera_data/train/ants/formica.jpeg  \n",
      "  inflating: hymenoptera_data/train/ants/hormiga_co_por.jpg  \n",
      "  inflating: hymenoptera_data/train/ants/imageNotFound.gif  \n",
      "  inflating: hymenoptera_data/train/ants/kurokusa.jpg  \n",
      "  inflating: hymenoptera_data/train/ants/MehdiabadiAnt2_600.jpg  \n",
      "  inflating: hymenoptera_data/train/ants/Nepenthes_rafflesiana_ant.jpg  \n",
      "  inflating: hymenoptera_data/train/ants/swiss-army-ant.jpg  \n",
      "  inflating: hymenoptera_data/train/ants/termite-vs-ant.jpg  \n",
      "  inflating: hymenoptera_data/train/ants/trap-jaw-ant-insect-bg.jpg  \n",
      "  inflating: hymenoptera_data/train/ants/VietnameseAntMimicSpider.jpg  \n",
      "   creating: hymenoptera_data/train/bees/\n",
      "  inflating: hymenoptera_data/train/bees/1092977343_cb42b38d62.jpg  \n",
      "  inflating: hymenoptera_data/train/bees/1093831624_fb5fbe2308.jpg  \n",
      "  inflating: hymenoptera_data/train/bees/1097045929_1753d1c765.jpg  \n",
      "  inflating: hymenoptera_data/train/bees/1232245714_f862fbe385.jpg  \n",
      "  inflating: hymenoptera_data/train/bees/129236073_0985e91c7d.jpg  \n",
      "  inflating: hymenoptera_data/train/bees/1295655112_7813f37d21.jpg  \n",
      "  inflating: hymenoptera_data/train/bees/132511197_0b86ad0fff.jpg  \n",
      "  inflating: hymenoptera_data/train/bees/132826773_dbbcb117b9.jpg  \n",
      "  inflating: hymenoptera_data/train/bees/150013791_969d9a968b.jpg  \n",
      "  inflating: hymenoptera_data/train/bees/1508176360_2972117c9d.jpg  \n",
      "  inflating: hymenoptera_data/train/bees/154600396_53e1252e52.jpg  \n",
      "  inflating: hymenoptera_data/train/bees/16838648_415acd9e3f.jpg  \n",
      "  inflating: hymenoptera_data/train/bees/1691282715_0addfdf5e8.jpg  \n",
      "  inflating: hymenoptera_data/train/bees/17209602_fe5a5a746f.jpg  \n",
      "  inflating: hymenoptera_data/train/bees/174142798_e5ad6d76e0.jpg  \n",
      "  inflating: hymenoptera_data/train/bees/1799726602_8580867f71.jpg  \n",
      "  inflating: hymenoptera_data/train/bees/1807583459_4fe92b3133.jpg  \n",
      "  inflating: hymenoptera_data/train/bees/196430254_46bd129ae7.jpg  \n",
      "  inflating: hymenoptera_data/train/bees/196658222_3fffd79c67.jpg  \n",
      "  inflating: hymenoptera_data/train/bees/198508668_97d818b6c4.jpg  \n",
      "  inflating: hymenoptera_data/train/bees/2031225713_50ed499635.jpg  \n",
      "  inflating: hymenoptera_data/train/bees/2037437624_2d7bce461f.jpg  \n",
      "  inflating: hymenoptera_data/train/bees/2053200300_8911ef438a.jpg  \n",
      "  inflating: hymenoptera_data/train/bees/205835650_e6f2614bee.jpg  \n",
      "  inflating: hymenoptera_data/train/bees/208702903_42fb4d9748.jpg  \n",
      "  inflating: hymenoptera_data/train/bees/21399619_3e61e5bb6f.jpg  \n",
      "  inflating: hymenoptera_data/train/bees/2227611847_ec72d40403.jpg  \n",
      "  inflating: hymenoptera_data/train/bees/2321139806_d73d899e66.jpg  \n",
      "  inflating: hymenoptera_data/train/bees/2330918208_8074770c20.jpg  \n",
      "  inflating: hymenoptera_data/train/bees/2345177635_caf07159b3.jpg  \n",
      "  inflating: hymenoptera_data/train/bees/2358061370_9daabbd9ac.jpg  \n",
      "  inflating: hymenoptera_data/train/bees/2364597044_3c3e3fc391.jpg  \n",
      "  inflating: hymenoptera_data/train/bees/2384149906_2cd8b0b699.jpg  \n",
      "  inflating: hymenoptera_data/train/bees/2397446847_04ef3cd3e1.jpg  \n",
      "  inflating: hymenoptera_data/train/bees/2405441001_b06c36fa72.jpg  \n",
      "  inflating: hymenoptera_data/train/bees/2445215254_51698ff797.jpg  \n",
      "  inflating: hymenoptera_data/train/bees/2452236943_255bfd9e58.jpg  \n",
      "  inflating: hymenoptera_data/train/bees/2467959963_a7831e9ff0.jpg  \n",
      "  inflating: hymenoptera_data/train/bees/2470492904_837e97800d.jpg  \n",
      "  inflating: hymenoptera_data/train/bees/2477324698_3d4b1b1cab.jpg  \n",
      "  inflating: hymenoptera_data/train/bees/2477349551_e75c97cf4d.jpg  \n",
      "  inflating: hymenoptera_data/train/bees/2486729079_62df0920be.jpg  \n",
      "  inflating: hymenoptera_data/train/bees/2486746709_c43cec0e42.jpg  \n",
      "  inflating: hymenoptera_data/train/bees/2493379287_4100e1dacc.jpg  \n",
      "  inflating: hymenoptera_data/train/bees/2495722465_879acf9d85.jpg  \n",
      "  inflating: hymenoptera_data/train/bees/2528444139_fa728b0f5b.jpg  \n",
      "  inflating: hymenoptera_data/train/bees/2538361678_9da84b77e3.jpg  \n",
      "  inflating: hymenoptera_data/train/bees/2551813042_8a070aeb2b.jpg  \n",
      "  inflating: hymenoptera_data/train/bees/2580598377_a4caecdb54.jpg  \n",
      "  inflating: hymenoptera_data/train/bees/2601176055_8464e6aa71.jpg  \n",
      "  inflating: hymenoptera_data/train/bees/2610833167_79bf0bcae5.jpg  \n",
      "  inflating: hymenoptera_data/train/bees/2610838525_fe8e3cae47.jpg  \n",
      "  inflating: hymenoptera_data/train/bees/2617161745_fa3ebe85b4.jpg  \n",
      "  inflating: hymenoptera_data/train/bees/2625499656_e3415e374d.jpg  \n",
      "  inflating: hymenoptera_data/train/bees/2634617358_f32fd16bea.jpg  \n",
      "  inflating: hymenoptera_data/train/bees/2638074627_6b3ae746a0.jpg  \n",
      "  inflating: hymenoptera_data/train/bees/2645107662_b73a8595cc.jpg  \n",
      "  inflating: hymenoptera_data/train/bees/2651621464_a2fa8722eb.jpg  \n",
      "  inflating: hymenoptera_data/train/bees/2652877533_a564830cbf.jpg  \n",
      "  inflating: hymenoptera_data/train/bees/266644509_d30bb16a1b.jpg  \n",
      "  inflating: hymenoptera_data/train/bees/2683605182_9d2a0c66cf.jpg  \n",
      "  inflating: hymenoptera_data/train/bees/2704348794_eb5d5178c2.jpg  \n",
      "  inflating: hymenoptera_data/train/bees/2707440199_cd170bd512.jpg  \n",
      "  inflating: hymenoptera_data/train/bees/2710368626_cb42882dc8.jpg  \n",
      "  inflating: hymenoptera_data/train/bees/2722592222_258d473e17.jpg  \n",
      "  inflating: hymenoptera_data/train/bees/2728759455_ce9bb8cd7a.jpg  \n",
      "  inflating: hymenoptera_data/train/bees/2756397428_1d82a08807.jpg  \n",
      "  inflating: hymenoptera_data/train/bees/2765347790_da6cf6cb40.jpg  \n",
      "  inflating: hymenoptera_data/train/bees/2781170484_5d61835d63.jpg  \n",
      "  inflating: hymenoptera_data/train/bees/279113587_b4843db199.jpg  \n",
      "  inflating: hymenoptera_data/train/bees/2792000093_e8ae0718cf.jpg  \n",
      "  inflating: hymenoptera_data/train/bees/2801728106_833798c909.jpg  \n",
      "  inflating: hymenoptera_data/train/bees/2822388965_f6dca2a275.jpg  \n",
      "  inflating: hymenoptera_data/train/bees/2861002136_52c7c6f708.jpg  \n",
      "  inflating: hymenoptera_data/train/bees/2908916142_a7ac8b57a8.jpg  \n",
      "  inflating: hymenoptera_data/train/bees/29494643_e3410f0d37.jpg  \n",
      "  inflating: hymenoptera_data/train/bees/2959730355_416a18c63c.jpg  \n",
      "  inflating: hymenoptera_data/train/bees/2962405283_22718d9617.jpg  \n",
      "  inflating: hymenoptera_data/train/bees/3006264892_30e9cced70.jpg  \n",
      "  inflating: hymenoptera_data/train/bees/3030189811_01d095b793.jpg  \n",
      "  inflating: hymenoptera_data/train/bees/3030772428_8578335616.jpg  \n",
      "  inflating: hymenoptera_data/train/bees/3044402684_3853071a87.jpg  \n",
      "  inflating: hymenoptera_data/train/bees/3074585407_9854eb3153.jpg  \n",
      "  inflating: hymenoptera_data/train/bees/3079610310_ac2d0ae7bc.jpg  \n",
      "  inflating: hymenoptera_data/train/bees/3090975720_71f12e6de4.jpg  \n",
      "  inflating: hymenoptera_data/train/bees/3100226504_c0d4f1e3f1.jpg  \n",
      "  inflating: hymenoptera_data/train/bees/342758693_c56b89b6b6.jpg  \n",
      "  inflating: hymenoptera_data/train/bees/354167719_22dca13752.jpg  \n",
      "  inflating: hymenoptera_data/train/bees/359928878_b3b418c728.jpg  \n",
      "  inflating: hymenoptera_data/train/bees/365759866_b15700c59b.jpg  \n",
      "  inflating: hymenoptera_data/train/bees/36900412_92b81831ad.jpg  \n",
      "  inflating: hymenoptera_data/train/bees/39672681_1302d204d1.jpg  \n",
      "  inflating: hymenoptera_data/train/bees/39747887_42df2855ee.jpg  \n",
      "  inflating: hymenoptera_data/train/bees/421515404_e87569fd8b.jpg  \n",
      "  inflating: hymenoptera_data/train/bees/444532809_9e931e2279.jpg  \n",
      "  inflating: hymenoptera_data/train/bees/446296270_d9e8b93ecf.jpg  \n",
      "  inflating: hymenoptera_data/train/bees/452462677_7be43af8ff.jpg  \n",
      "  inflating: hymenoptera_data/train/bees/452462695_40a4e5b559.jpg  \n",
      "  inflating: hymenoptera_data/train/bees/457457145_5f86eb7e9c.jpg  \n",
      "  inflating: hymenoptera_data/train/bees/465133211_80e0c27f60.jpg  \n",
      "  inflating: hymenoptera_data/train/bees/469333327_358ba8fe8a.jpg  \n",
      "  inflating: hymenoptera_data/train/bees/472288710_2abee16fa0.jpg  \n",
      "  inflating: hymenoptera_data/train/bees/473618094_8ffdcab215.jpg  \n",
      "  inflating: hymenoptera_data/train/bees/476347960_52edd72b06.jpg  \n",
      "  inflating: hymenoptera_data/train/bees/478701318_bbd5e557b8.jpg  \n",
      "  inflating: hymenoptera_data/train/bees/507288830_f46e8d4cb2.jpg  \n",
      "  inflating: hymenoptera_data/train/bees/509247772_2db2d01374.jpg  \n",
      "  inflating: hymenoptera_data/train/bees/513545352_fd3e7c7c5d.jpg  \n",
      "  inflating: hymenoptera_data/train/bees/522104315_5d3cb2758e.jpg  \n",
      "  inflating: hymenoptera_data/train/bees/537309131_532bfa59ea.jpg  \n",
      "  inflating: hymenoptera_data/train/bees/586041248_3032e277a9.jpg  \n",
      "  inflating: hymenoptera_data/train/bees/760526046_547e8b381f.jpg  \n",
      "  inflating: hymenoptera_data/train/bees/760568592_45a52c847f.jpg  \n",
      "  inflating: hymenoptera_data/train/bees/774440991_63a4aa0cbe.jpg  \n",
      "  inflating: hymenoptera_data/train/bees/85112639_6e860b0469.jpg  \n",
      "  inflating: hymenoptera_data/train/bees/873076652_eb098dab2d.jpg  \n",
      "  inflating: hymenoptera_data/train/bees/90179376_abc234e5f4.jpg  \n",
      "  inflating: hymenoptera_data/train/bees/92663402_37f379e57a.jpg  \n",
      "  inflating: hymenoptera_data/train/bees/95238259_98470c5b10.jpg  \n",
      "  inflating: hymenoptera_data/train/bees/969455125_58c797ef17.jpg  \n",
      "  inflating: hymenoptera_data/train/bees/98391118_bdb1e80cce.jpg  \n",
      "   creating: hymenoptera_data/val/\n",
      "   creating: hymenoptera_data/val/ants/\n",
      "  inflating: hymenoptera_data/val/ants/10308379_1b6c72e180.jpg  \n",
      "  inflating: hymenoptera_data/val/ants/1053149811_f62a3410d3.jpg  \n",
      "  inflating: hymenoptera_data/val/ants/1073564163_225a64f170.jpg  \n",
      "  inflating: hymenoptera_data/val/ants/1119630822_cd325ea21a.jpg  \n",
      "  inflating: hymenoptera_data/val/ants/1124525276_816a07c17f.jpg  \n",
      "  inflating: hymenoptera_data/val/ants/11381045_b352a47d8c.jpg  \n",
      "  inflating: hymenoptera_data/val/ants/119785936_dd428e40c3.jpg  \n",
      "  inflating: hymenoptera_data/val/ants/1247887232_edcb61246c.jpg  \n",
      "  inflating: hymenoptera_data/val/ants/1262751255_c56c042b7b.jpg  \n",
      "  inflating: hymenoptera_data/val/ants/1337725712_2eb53cd742.jpg  \n",
      "  inflating: hymenoptera_data/val/ants/1358854066_5ad8015f7f.jpg  \n",
      "  inflating: hymenoptera_data/val/ants/1440002809_b268d9a66a.jpg  \n",
      "  inflating: hymenoptera_data/val/ants/147542264_79506478c2.jpg  \n",
      "  inflating: hymenoptera_data/val/ants/152286280_411648ec27.jpg  \n",
      "  inflating: hymenoptera_data/val/ants/153320619_2aeb5fa0ee.jpg  \n",
      "  inflating: hymenoptera_data/val/ants/153783656_85f9c3ac70.jpg  \n",
      "  inflating: hymenoptera_data/val/ants/157401988_d0564a9d02.jpg  \n",
      "  inflating: hymenoptera_data/val/ants/159515240_d5981e20d1.jpg  \n",
      "  inflating: hymenoptera_data/val/ants/161076144_124db762d6.jpg  \n",
      "  inflating: hymenoptera_data/val/ants/161292361_c16e0bf57a.jpg  \n",
      "  inflating: hymenoptera_data/val/ants/170652283_ecdaff5d1a.jpg  \n",
      "  inflating: hymenoptera_data/val/ants/17081114_79b9a27724.jpg  \n",
      "  inflating: hymenoptera_data/val/ants/172772109_d0a8e15fb0.jpg  \n",
      "  inflating: hymenoptera_data/val/ants/1743840368_b5ccda82b7.jpg  \n",
      "  inflating: hymenoptera_data/val/ants/181942028_961261ef48.jpg  \n",
      "  inflating: hymenoptera_data/val/ants/183260961_64ab754c97.jpg  \n",
      "  inflating: hymenoptera_data/val/ants/2039585088_c6f47c592e.jpg  \n",
      "  inflating: hymenoptera_data/val/ants/205398178_c395c5e460.jpg  \n",
      "  inflating: hymenoptera_data/val/ants/208072188_f293096296.jpg  \n",
      "  inflating: hymenoptera_data/val/ants/209615353_eeb38ba204.jpg  \n",
      "  inflating: hymenoptera_data/val/ants/2104709400_8831b4fc6f.jpg  \n",
      "  inflating: hymenoptera_data/val/ants/212100470_b485e7b7b9.jpg  \n",
      "  inflating: hymenoptera_data/val/ants/2127908701_d49dc83c97.jpg  \n",
      "  inflating: hymenoptera_data/val/ants/2191997003_379df31291.jpg  \n",
      "  inflating: hymenoptera_data/val/ants/2211974567_ee4606b493.jpg  \n",
      "  inflating: hymenoptera_data/val/ants/2219621907_47bc7cc6b0.jpg  \n",
      "  inflating: hymenoptera_data/val/ants/2238242353_52c82441df.jpg  \n",
      "  inflating: hymenoptera_data/val/ants/2255445811_dabcdf7258.jpg  \n",
      "  inflating: hymenoptera_data/val/ants/239161491_86ac23b0a3.jpg  \n",
      "  inflating: hymenoptera_data/val/ants/263615709_cfb28f6b8e.jpg  \n",
      "  inflating: hymenoptera_data/val/ants/308196310_1db5ffa01b.jpg  \n",
      "  inflating: hymenoptera_data/val/ants/319494379_648fb5a1c6.jpg  \n",
      "  inflating: hymenoptera_data/val/ants/35558229_1fa4608a7a.jpg  \n",
      "  inflating: hymenoptera_data/val/ants/412436937_4c2378efc2.jpg  \n",
      "  inflating: hymenoptera_data/val/ants/436944325_d4925a38c7.jpg  \n",
      "  inflating: hymenoptera_data/val/ants/445356866_6cb3289067.jpg  \n",
      "  inflating: hymenoptera_data/val/ants/459442412_412fecf3fe.jpg  \n",
      "  inflating: hymenoptera_data/val/ants/470127071_8b8ee2bd74.jpg  \n",
      "  inflating: hymenoptera_data/val/ants/477437164_bc3e6e594a.jpg  \n",
      "  inflating: hymenoptera_data/val/ants/488272201_c5aa281348.jpg  \n",
      "  inflating: hymenoptera_data/val/ants/502717153_3e4865621a.jpg  \n",
      "  inflating: hymenoptera_data/val/ants/518746016_bcc28f8b5b.jpg  \n",
      "  inflating: hymenoptera_data/val/ants/540543309_ddbb193ee5.jpg  \n",
      "  inflating: hymenoptera_data/val/ants/562589509_7e55469b97.jpg  \n",
      "  inflating: hymenoptera_data/val/ants/57264437_a19006872f.jpg  \n",
      "  inflating: hymenoptera_data/val/ants/573151833_ebbc274b77.jpg  \n",
      "  inflating: hymenoptera_data/val/ants/649407494_9b6bc4949f.jpg  \n",
      "  inflating: hymenoptera_data/val/ants/751649788_78dd7d16ce.jpg  \n",
      "  inflating: hymenoptera_data/val/ants/768870506_8f115d3d37.jpg  \n",
      "  inflating: hymenoptera_data/val/ants/800px-Meat_eater_ant_qeen_excavating_hole.jpg  \n",
      "  inflating: hymenoptera_data/val/ants/8124241_36b290d372.jpg  \n",
      "  inflating: hymenoptera_data/val/ants/8398478_50ef10c47a.jpg  \n",
      "  inflating: hymenoptera_data/val/ants/854534770_31f6156383.jpg  \n",
      "  inflating: hymenoptera_data/val/ants/892676922_4ab37dce07.jpg  \n",
      "  inflating: hymenoptera_data/val/ants/94999827_36895faade.jpg  \n",
      "  inflating: hymenoptera_data/val/ants/Ant-1818.jpg  \n",
      "  inflating: hymenoptera_data/val/ants/ants-devouring-remains-of-large-dead-insect-on-red-tile-in-Stellenbosch-South-Africa-closeup-1-DHD.jpg  \n",
      "  inflating: hymenoptera_data/val/ants/desert_ant.jpg  \n",
      "  inflating: hymenoptera_data/val/ants/F.pergan.28(f).jpg  \n",
      "  inflating: hymenoptera_data/val/ants/Hormiga.jpg  \n",
      "   creating: hymenoptera_data/val/bees/\n",
      "  inflating: hymenoptera_data/val/bees/1032546534_06907fe3b3.jpg  \n",
      "  inflating: hymenoptera_data/val/bees/10870992_eebeeb3a12.jpg  \n"
     ]
    },
    {
     "name": "stdout",
     "output_type": "stream",
     "text": [
      "  inflating: hymenoptera_data/val/bees/1181173278_23c36fac71.jpg  \r\n",
      "  inflating: hymenoptera_data/val/bees/1297972485_33266a18d9.jpg  \r\n",
      "  inflating: hymenoptera_data/val/bees/1328423762_f7a88a8451.jpg  \r\n",
      "  inflating: hymenoptera_data/val/bees/1355974687_1341c1face.jpg  \r\n",
      "  inflating: hymenoptera_data/val/bees/144098310_a4176fd54d.jpg  \r\n",
      "  inflating: hymenoptera_data/val/bees/1486120850_490388f84b.jpg  \r\n",
      "  inflating: hymenoptera_data/val/bees/149973093_da3c446268.jpg  \r\n",
      "  inflating: hymenoptera_data/val/bees/151594775_ee7dc17b60.jpg  \r\n",
      "  inflating: hymenoptera_data/val/bees/151603988_2c6f7d14c7.jpg  \r\n",
      "  inflating: hymenoptera_data/val/bees/1519368889_4270261ee3.jpg  \r\n",
      "  inflating: hymenoptera_data/val/bees/152789693_220b003452.jpg  \r\n",
      "  inflating: hymenoptera_data/val/bees/177677657_a38c97e572.jpg  \r\n",
      "  inflating: hymenoptera_data/val/bees/1799729694_0c40101071.jpg  \r\n",
      "  inflating: hymenoptera_data/val/bees/181171681_c5a1a82ded.jpg  \r\n",
      "  inflating: hymenoptera_data/val/bees/187130242_4593a4c610.jpg  \r\n",
      "  inflating: hymenoptera_data/val/bees/203868383_0fcbb48278.jpg  \r\n",
      "  inflating: hymenoptera_data/val/bees/2060668999_e11edb10d0.jpg  \r\n",
      "  inflating: hymenoptera_data/val/bees/2086294791_6f3789d8a6.jpg  \r\n",
      "  inflating: hymenoptera_data/val/bees/2103637821_8d26ee6b90.jpg  \r\n",
      "  inflating: hymenoptera_data/val/bees/2104135106_a65eede1de.jpg  \r\n",
      "  inflating: hymenoptera_data/val/bees/215512424_687e1e0821.jpg  \r\n",
      "  inflating: hymenoptera_data/val/bees/2173503984_9c6aaaa7e2.jpg  \r\n",
      "  inflating: hymenoptera_data/val/bees/220376539_20567395d8.jpg  \r\n",
      "  inflating: hymenoptera_data/val/bees/224841383_d050f5f510.jpg  \r\n",
      "  inflating: hymenoptera_data/val/bees/2321144482_f3785ba7b2.jpg  \r\n",
      "  inflating: hymenoptera_data/val/bees/238161922_55fa9a76ae.jpg  \r\n",
      "  inflating: hymenoptera_data/val/bees/2407809945_fb525ef54d.jpg  \r\n",
      "  inflating: hymenoptera_data/val/bees/2415414155_1916f03b42.jpg  \r\n",
      "  inflating: hymenoptera_data/val/bees/2438480600_40a1249879.jpg  \r\n",
      "  inflating: hymenoptera_data/val/bees/2444778727_4b781ac424.jpg  \r\n",
      "  inflating: hymenoptera_data/val/bees/2457841282_7867f16639.jpg  \r\n",
      "  inflating: hymenoptera_data/val/bees/2470492902_3572c90f75.jpg  \r\n",
      "  inflating: hymenoptera_data/val/bees/2478216347_535c8fe6d7.jpg  \r\n",
      "  inflating: hymenoptera_data/val/bees/2501530886_e20952b97d.jpg  \r\n",
      "  inflating: hymenoptera_data/val/bees/2506114833_90a41c5267.jpg  \r\n",
      "  inflating: hymenoptera_data/val/bees/2509402554_31821cb0b6.jpg  \r\n",
      "  inflating: hymenoptera_data/val/bees/2525379273_dcb26a516d.jpg  \r\n",
      "  inflating: hymenoptera_data/val/bees/26589803_5ba7000313.jpg  \r\n",
      "  inflating: hymenoptera_data/val/bees/2668391343_45e272cd07.jpg  \r\n",
      "  inflating: hymenoptera_data/val/bees/2670536155_c170f49cd0.jpg  \r\n",
      "  inflating: hymenoptera_data/val/bees/2685605303_9eed79d59d.jpg  \r\n",
      "  inflating: hymenoptera_data/val/bees/2702408468_d9ed795f4f.jpg  \r\n",
      "  inflating: hymenoptera_data/val/bees/2709775832_85b4b50a57.jpg  \r\n",
      "  inflating: hymenoptera_data/val/bees/2717418782_bd83307d9f.jpg  \r\n",
      "  inflating: hymenoptera_data/val/bees/272986700_d4d4bf8c4b.jpg  \r\n",
      "  inflating: hymenoptera_data/val/bees/2741763055_9a7bb00802.jpg  \r\n",
      "  inflating: hymenoptera_data/val/bees/2745389517_250a397f31.jpg  \r\n",
      "  inflating: hymenoptera_data/val/bees/2751836205_6f7b5eff30.jpg  \r\n",
      "  inflating: hymenoptera_data/val/bees/2782079948_8d4e94a826.jpg  \r\n",
      "  inflating: hymenoptera_data/val/bees/2809496124_5f25b5946a.jpg  \r\n",
      "  inflating: hymenoptera_data/val/bees/2815838190_0a9889d995.jpg  \r\n",
      "  inflating: hymenoptera_data/val/bees/2841437312_789699c740.jpg  \r\n",
      "  inflating: hymenoptera_data/val/bees/2883093452_7e3a1eb53f.jpg  \r\n",
      "  inflating: hymenoptera_data/val/bees/290082189_f66cb80bfc.jpg  \r\n",
      "  inflating: hymenoptera_data/val/bees/296565463_d07a7bed96.jpg  \r\n",
      "  inflating: hymenoptera_data/val/bees/3077452620_548c79fda0.jpg  \r\n",
      "  inflating: hymenoptera_data/val/bees/348291597_ee836fbb1a.jpg  \r\n",
      "  inflating: hymenoptera_data/val/bees/350436573_41f4ecb6c8.jpg  \r\n",
      "  inflating: hymenoptera_data/val/bees/353266603_d3eac7e9a0.jpg  \r\n",
      "  inflating: hymenoptera_data/val/bees/372228424_16da1f8884.jpg  \r\n",
      "  inflating: hymenoptera_data/val/bees/400262091_701c00031c.jpg  \r\n",
      "  inflating: hymenoptera_data/val/bees/416144384_961c326481.jpg  \r\n",
      "  inflating: hymenoptera_data/val/bees/44105569_16720a960c.jpg  \r\n",
      "  inflating: hymenoptera_data/val/bees/456097971_860949c4fc.jpg  \r\n",
      "  inflating: hymenoptera_data/val/bees/464594019_1b24a28bb1.jpg  \r\n",
      "  inflating: hymenoptera_data/val/bees/485743562_d8cc6b8f73.jpg  \r\n",
      "  inflating: hymenoptera_data/val/bees/540976476_844950623f.jpg  \r\n",
      "  inflating: hymenoptera_data/val/bees/54736755_c057723f64.jpg  \r\n",
      "  inflating: hymenoptera_data/val/bees/57459255_752774f1b2.jpg  \r\n",
      "  inflating: hymenoptera_data/val/bees/576452297_897023f002.jpg  \r\n",
      "  inflating: hymenoptera_data/val/bees/586474709_ae436da045.jpg  \n",
      "  inflating: hymenoptera_data/val/bees/590318879_68cf112861.jpg  \n",
      "  inflating: hymenoptera_data/val/bees/59798110_2b6a3c8031.jpg  \n",
      "  inflating: hymenoptera_data/val/bees/603709866_a97c7cfc72.jpg  \n",
      "  inflating: hymenoptera_data/val/bees/603711658_4c8cd2201e.jpg  \n",
      "  inflating: hymenoptera_data/val/bees/65038344_52a45d090d.jpg  \n",
      "  inflating: hymenoptera_data/val/bees/6a00d8341c630a53ef00e553d0beb18834-800wi.jpg  \n",
      "  inflating: hymenoptera_data/val/bees/72100438_73de9f17af.jpg  \n",
      "  inflating: hymenoptera_data/val/bees/759745145_e8bc776ec8.jpg  \n",
      "  inflating: hymenoptera_data/val/bees/936182217_c4caa5222d.jpg  \n",
      "  inflating: hymenoptera_data/val/bees/abeja.jpg  \n"
     ]
    }
   ],
   "source": [
    "!wget https://download.pytorch.org/tutorial/hymenoptera_data.zip\n",
    "!unzip hymenoptera_data.zip\n",
    "!mv hymenoptera_data data"
   ]
  },
  {
   "cell_type": "markdown",
   "metadata": {
    "colab_type": "text",
    "id": "4C1-zJKpY98L"
   },
   "source": [
    "### 4. This is an advance topic and not essential to be adept at this, but TAs know. Ask them!"
   ]
  },
  {
   "cell_type": "code",
   "execution_count": 0,
   "metadata": {
    "colab": {
     "autoexec": {
      "startup": false,
      "wait_interval": 0
     }
    },
    "colab_type": "code",
    "id": "0ivj-IZ1Y98N"
   },
   "outputs": [],
   "source": [
    "if K.image_data_format() == 'channels_first':\n",
    "    x_train = x_train.reshape(x_train.shape[0], 1, img_rows, img_cols)\n",
    "    x_test = x_test.reshape(x_test.shape[0], 1, img_rows, img_cols)\n",
    "    input_shape = (1, img_rows, img_cols)\n",
    "else:\n",
    "    x_train = x_train.reshape(x_train.shape[0], img_rows, img_cols, 1)\n",
    "    x_test = x_test.reshape(x_test.shape[0], img_rows, img_cols, 1)\n",
    "    input_shape = (img_rows, img_cols, 1)"
   ]
  },
  {
   "cell_type": "markdown",
   "metadata": {
    "colab_type": "text",
    "id": "NcbM7HpGY98R"
   },
   "source": [
    "### 5. Here we are going to understand:\n",
    "1. How can we change variables type?\n",
    "2. How can we normalized the numbers in a range between 0 and 1? This is a simple solution, But there are other ways. google it:)\n",
    "3. How can we get the exact dimension of each variable"
   ]
  },
  {
   "cell_type": "code",
   "execution_count": 6,
   "metadata": {
    "colab": {
     "autoexec": {
      "startup": false,
      "wait_interval": 0
     },
     "base_uri": "https://localhost:8080/",
     "height": 68
    },
    "colab_type": "code",
    "executionInfo": {
     "elapsed": 2488,
     "status": "ok",
     "timestamp": 1533209391595,
     "user": {
      "displayName": "Mohammad Doosti Lakhani",
      "photoUrl": "//lh5.googleusercontent.com/-UVQKn-_bjas/AAAAAAAAAAI/AAAAAAAAACc/Nr22-zVsFzc/s50-c-k-no/photo.jpg",
      "userId": "112537701770884493684"
     },
     "user_tz": -270
    },
    "id": "fYJKdTAMY98R",
    "outputId": "5f43f8e9-694e-4275-ce99-37d31aa180b6"
   },
   "outputs": [
    {
     "name": "stdout",
     "output_type": "stream",
     "text": [
      "x_train shape: (60000, 28, 28, 1)\n",
      "60000 train samples\n",
      "10000 test samples\n"
     ]
    }
   ],
   "source": [
    "x_train = x_train.astype('float32')      # This is the way we change the variable type\n",
    "x_test = x_test.astype('float32')\n",
    "x_train /= 255                           # Here we normalize the data between 0 and 1\n",
    "x_test /= 255                            # Here we normalize the data between 0 and 1\n",
    "print('x_train shape:', x_train.shape)\n",
    "print(x_train.shape[0], 'train samples')\n",
    "print(x_test.shape[0], 'test samples')"
   ]
  },
  {
   "cell_type": "markdown",
   "metadata": {
    "colab_type": "text",
    "id": "tF-4i672Y98V"
   },
   "source": [
    "### 6. Using this way, you can find which classes each data point belongs to!"
   ]
  },
  {
   "cell_type": "code",
   "execution_count": 7,
   "metadata": {
    "colab": {
     "autoexec": {
      "startup": false,
      "wait_interval": 0
     },
     "base_uri": "https://localhost:8080/",
     "height": 34
    },
    "colab_type": "code",
    "executionInfo": {
     "elapsed": 6855,
     "status": "ok",
     "timestamp": 1533209402111,
     "user": {
      "displayName": "Mohammad Doosti Lakhani",
      "photoUrl": "//lh5.googleusercontent.com/-UVQKn-_bjas/AAAAAAAAAAI/AAAAAAAAACc/Nr22-zVsFzc/s50-c-k-no/photo.jpg",
      "userId": "112537701770884493684"
     },
     "user_tz": -270
    },
    "id": "EFEZgUHfY98W",
    "outputId": "28cf58a8-9929-4d6d-d42e-60143863e9fe"
   },
   "outputs": [
    {
     "name": "stdout",
     "output_type": "stream",
     "text": [
      "5\n"
     ]
    }
   ],
   "source": [
    "print(y_train[0])    # This refers to that the sample #1 is related to Class 5"
   ]
  },
  {
   "cell_type": "markdown",
   "metadata": {
    "colab_type": "text",
    "id": "pNe30LlDY98Z"
   },
   "source": [
    "### 7.Convert target representation from a simple scalar to one-hot representation:\n",
    "One-Hot encoding. A one hot encoding is a representation of categorical variables as binary vectors. Each integer value is represented as a binary vector that is all zero values except the index of the integer, which is marked with a 1."
   ]
  },
  {
   "cell_type": "code",
   "execution_count": 0,
   "metadata": {
    "colab": {
     "autoexec": {
      "startup": false,
      "wait_interval": 0
     }
    },
    "colab_type": "code",
    "id": "7DcEQb7WY98a"
   },
   "outputs": [],
   "source": [
    "# convert class vectors to binary class matrices\n",
    "y_train = keras.utils.to_categorical(y_train, num_classes)\n",
    "y_test = keras.utils.to_categorical(y_test, num_classes)"
   ]
  },
  {
   "cell_type": "code",
   "execution_count": 9,
   "metadata": {
    "colab": {
     "autoexec": {
      "startup": false,
      "wait_interval": 0
     },
     "base_uri": "https://localhost:8080/",
     "height": 34
    },
    "colab_type": "code",
    "executionInfo": {
     "elapsed": 1317,
     "status": "ok",
     "timestamp": 1533209431172,
     "user": {
      "displayName": "Mohammad Doosti Lakhani",
      "photoUrl": "//lh5.googleusercontent.com/-UVQKn-_bjas/AAAAAAAAAAI/AAAAAAAAACc/Nr22-zVsFzc/s50-c-k-no/photo.jpg",
      "userId": "112537701770884493684"
     },
     "user_tz": -270
    },
    "id": "gSy5p80YY98c",
    "outputId": "d59a2993-d995-463d-a6ee-110cb6f40a7f"
   },
   "outputs": [
    {
     "name": "stdout",
     "output_type": "stream",
     "text": [
      "[0. 0. 0. 0. 0. 1. 0. 0. 0. 0.]\n"
     ]
    }
   ],
   "source": [
    "print(y_train[0])    # above command assign 1 to 5th element of a vector and others have value 0."
   ]
  },
  {
   "cell_type": "markdown",
   "metadata": {
    "colab_type": "text",
    "id": "cCthtyRXY98g"
   },
   "source": [
    "### ->So far, all above operations are easy to understand. If you want to know more on each function operation, just use \"shift + tab\" on each function name. <-"
   ]
  },
  {
   "cell_type": "markdown",
   "metadata": {
    "colab_type": "text",
    "id": "gNeAgxCIY98g"
   },
   "source": [
    "### 8. Now, this is your turn. we are going to define a sequential model describer in following:\n",
    "- Conv2D: filters = 32, kernel_size = (3,3), activation = 'relu', input_shape = (1, 28, 28)\n",
    "- Conv2D: filters = 64, kernel_size = (3,3), activation = 'relu'\n",
    "- MaxPooling2D: pool_size=(2, 2)\n",
    "- Dropout: rate = 0.25\n",
    "- Flatten\n",
    "- Dense: units = 128, activation='relu'\n",
    "- Dropout: rate = 0.5\n",
    "- Dense: units = 10, activation='softmax'"
   ]
  },
  {
   "cell_type": "code",
   "execution_count": 0,
   "metadata": {
    "colab": {
     "autoexec": {
      "startup": false,
      "wait_interval": 0
     }
    },
    "colab_type": "code",
    "id": "sVpMqhy3Y98h"
   },
   "outputs": [],
   "source": [
    "model = Sequential()\n",
    "model.add(Conv2D(32, kernel_size = (3,3),input_shape = (28,28,1), strides=(1, 1), padding='valid', data_format=None, activation='relu', use_bias=True))\n",
    "model.add(Conv2D(64, kernel_size = (3,3), strides=(1, 1), padding='valid', data_format=None, activation='relu', use_bias=True))\n",
    "model.add(MaxPooling2D(pool_size=(2,2)))\n",
    "model.add(Dropout(0.25))\n",
    "model.add(Flatten())\n",
    "model.add(Dense(128, activation='relu', use_bias=True))\n",
    "model.add(Dropout(0.5))\n",
    "model.add(Dense(10, activation='softmax', use_bias=True))"
   ]
  },
  {
   "cell_type": "markdown",
   "metadata": {
    "colab_type": "text",
    "id": "Do8VdKYgY98j"
   },
   "source": [
    "### 9. Same as before, we need to compile our above model with an optimizer and a caregorical loss function. You already know it."
   ]
  },
  {
   "cell_type": "code",
   "execution_count": 0,
   "metadata": {
    "colab": {
     "autoexec": {
      "startup": false,
      "wait_interval": 0
     }
    },
    "colab_type": "code",
    "id": "kPECuTWkY98k"
   },
   "outputs": [],
   "source": [
    "model.compile(loss=keras.losses.categorical_crossentropy,\n",
    "              optimizer=keras.optimizers.Adadelta(),\n",
    "              metrics=['accuracy'])"
   ]
  },
  {
   "cell_type": "markdown",
   "metadata": {
    "colab_type": "text",
    "id": "KOv8Wkr6Y98n"
   },
   "source": [
    "### 10. Here, we try to fit our model on MNIST Dataset"
   ]
  },
  {
   "cell_type": "code",
   "execution_count": 14,
   "metadata": {
    "colab": {
     "autoexec": {
      "startup": false,
      "wait_interval": 0
     },
     "base_uri": "https://localhost:8080/",
     "height": 479
    },
    "colab_type": "code",
    "executionInfo": {
     "elapsed": 122151,
     "status": "ok",
     "timestamp": 1533210653734,
     "user": {
      "displayName": "Mohammad Doosti Lakhani",
      "photoUrl": "//lh5.googleusercontent.com/-UVQKn-_bjas/AAAAAAAAAAI/AAAAAAAAACc/Nr22-zVsFzc/s50-c-k-no/photo.jpg",
      "userId": "112537701770884493684"
     },
     "user_tz": -270
    },
    "id": "eqOyCU7WY98p",
    "outputId": "af6afb2f-c8b0-4a2a-8b44-a71207f55838"
   },
   "outputs": [
    {
     "name": "stdout",
     "output_type": "stream",
     "text": [
      "Train on 60000 samples, validate on 10000 samples\n",
      "Epoch 1/12\n",
      "60000/60000 [==============================] - 12s 202us/step - loss: 0.2676 - acc: 0.9172 - val_loss: 0.0596 - val_acc: 0.9813\n",
      "Epoch 2/12\n",
      "60000/60000 [==============================] - 10s 165us/step - loss: 0.0889 - acc: 0.9736 - val_loss: 0.0450 - val_acc: 0.9850\n",
      "Epoch 3/12\n",
      "28416/60000 [=============>................] - ETA: 4s - loss: 0.0701 - acc: 0.979560000/60000 [==============================] - 10s 165us/step - loss: 0.0677 - acc: 0.9802 - val_loss: 0.0355 - val_acc: 0.9872\n",
      "Epoch 4/12\n",
      "60000/60000 [==============================] - 10s 165us/step - loss: 0.0549 - acc: 0.9841 - val_loss: 0.0326 - val_acc: 0.9883\n",
      "Epoch 5/12\n",
      "60000/60000 [==============================] - 10s 165us/step - loss: 0.0473 - acc: 0.9854 - val_loss: 0.0318 - val_acc: 0.9890\n",
      "Epoch 6/12\n",
      "  512/60000 [..............................] - ETA: 9s - loss: 0.0493 - acc: 0.9863 60000/60000 [==============================] - 10s 165us/step - loss: 0.0406 - acc: 0.9878 - val_loss: 0.0293 - val_acc: 0.9893\n",
      "Epoch 7/12\n",
      "60000/60000 [==============================] - 10s 165us/step - loss: 0.0386 - acc: 0.9883 - val_loss: 0.0284 - val_acc: 0.9903\n",
      "Epoch 8/12\n",
      "55040/60000 [==========================>...] - ETA: 0s - loss: 0.0334 - acc: 0.989760000/60000 [==============================] - 10s 165us/step - loss: 0.0336 - acc: 0.9896 - val_loss: 0.0285 - val_acc: 0.9904\n",
      "Epoch 9/12\n",
      "60000/60000 [==============================] - 10s 164us/step - loss: 0.0322 - acc: 0.9899 - val_loss: 0.0302 - val_acc: 0.9900\n",
      "Epoch 10/12\n",
      "60000/60000 [==============================] - 10s 165us/step - loss: 0.0298 - acc: 0.9912 - val_loss: 0.0282 - val_acc: 0.9909\n",
      "Epoch 11/12\n",
      " 4736/60000 [=>............................] - ETA: 8s - loss: 0.0295 - acc: 0.990160000/60000 [==============================] - 10s 164us/step - loss: 0.0300 - acc: 0.9907 - val_loss: 0.0325 - val_acc: 0.9912\n",
      "Epoch 12/12\n",
      "60000/60000 [==============================] - 10s 164us/step - loss: 0.0264 - acc: 0.9920 - val_loss: 0.0248 - val_acc: 0.9919\n"
     ]
    },
    {
     "data": {
      "text/plain": [
       "<keras.callbacks.History at 0x7fd9e00729b0>"
      ]
     },
     "execution_count": 14,
     "metadata": {
      "tags": []
     },
     "output_type": "execute_result"
    }
   ],
   "source": [
    "model.fit(x_train, y_train,\n",
    "          batch_size=batch_size,\n",
    "          epochs=epochs,\n",
    "          verbose=1,\n",
    "          validation_data=(x_test, y_test))"
   ]
  },
  {
   "cell_type": "code",
   "execution_count": 15,
   "metadata": {
    "colab": {
     "autoexec": {
      "startup": false,
      "wait_interval": 0
     },
     "base_uri": "https://localhost:8080/",
     "height": 51
    },
    "colab_type": "code",
    "executionInfo": {
     "elapsed": 2675,
     "status": "ok",
     "timestamp": 1533210672730,
     "user": {
      "displayName": "Mohammad Doosti Lakhani",
      "photoUrl": "//lh5.googleusercontent.com/-UVQKn-_bjas/AAAAAAAAAAI/AAAAAAAAACc/Nr22-zVsFzc/s50-c-k-no/photo.jpg",
      "userId": "112537701770884493684"
     },
     "user_tz": -270
    },
    "id": "YczU4v9RY98r",
    "outputId": "90386af9-d5d9-4a83-a537-371fffecfe5e"
   },
   "outputs": [
    {
     "name": "stdout",
     "output_type": "stream",
     "text": [
      "Test loss: 0.02479468177455092\n",
      "Test accuracy: 0.9919\n"
     ]
    }
   ],
   "source": [
    "score = model.evaluate(x_test, y_test, verbose=0)\n",
    "print('Test loss:', score[0])\n",
    "print('Test accuracy:', score[1])"
   ]
  },
  {
   "cell_type": "markdown",
   "metadata": {
    "colab_type": "text",
    "id": "0lGeZAuSY98u"
   },
   "source": [
    "## Pre-trained models and Data Augmentation:\n",
    "In this section, we are going to use a pre-trained model called MobileNet. Using this network and a new dataset, we train a newly defined Convolutinal Neural Network. A comprehensive list of goals are presented bellow (Be cautious of What I list. Think about them)\n",
    "\n",
    "1. Finetuning A pre-trained deep neural network\n",
    "2. Training on a new dataset gave you before handson.\n",
    "3. Data Augmenting using KERAS Utilities."
   ]
  },
  {
   "cell_type": "code",
   "execution_count": 0,
   "metadata": {
    "colab": {
     "autoexec": {
      "startup": false,
      "wait_interval": 0
     }
    },
    "colab_type": "code",
    "id": "8zRutFLDY98v"
   },
   "outputs": [],
   "source": [
    "from keras import applications\n",
    "from keras.preprocessing.image import ImageDataGenerator\n",
    "from keras import optimizers\n",
    "from keras.models import Sequential, Model \n",
    "from keras.layers import Dropout, Flatten, Dense, GlobalAveragePooling2D\n",
    "from keras import backend as k \n",
    "from keras.callbacks import ModelCheckpoint, LearningRateScheduler, TensorBoard, EarlyStopping"
   ]
  },
  {
   "cell_type": "markdown",
   "metadata": {
    "colab_type": "text",
    "id": "xLUUbdHPY98y"
   },
   "source": [
    "### 0. Hyper-parameters definition"
   ]
  },
  {
   "cell_type": "code",
   "execution_count": 0,
   "metadata": {
    "colab": {
     "autoexec": {
      "startup": false,
      "wait_interval": 0
     }
    },
    "colab_type": "code",
    "id": "vrM05ZbmY98y"
   },
   "outputs": [],
   "source": [
    "img_width, img_height = 128, 128    # input image has size (3, 128, 128)\n",
    "train_data_dir = \"data/train\"    # Location of training data\n",
    "validation_data_dir = \"data/val\"    # Location of validation data\n",
    "nb_train_samples = 244       # Total Number of Training samples\n",
    "nb_validation_samples = 153       # Total Number of Validations samples\n",
    "batch_size = 16\n",
    "epochs = 50"
   ]
  },
  {
   "cell_type": "markdown",
   "metadata": {
    "colab_type": "text",
    "id": "PkUaTQvtY982"
   },
   "source": [
    "### 1.Using commands introduced in hands on CNN, try to load MobileNet instead of VGG19. Just change the name ;)"
   ]
  },
  {
   "cell_type": "code",
   "execution_count": 55,
   "metadata": {
    "colab": {
     "autoexec": {
      "startup": false,
      "wait_interval": 0
     },
     "base_uri": "https://localhost:8080/",
     "height": 51
    },
    "colab_type": "code",
    "executionInfo": {
     "elapsed": 10311,
     "status": "ok",
     "timestamp": 1533212247905,
     "user": {
      "displayName": "Mohammad Doosti Lakhani",
      "photoUrl": "//lh5.googleusercontent.com/-UVQKn-_bjas/AAAAAAAAAAI/AAAAAAAAACc/Nr22-zVsFzc/s50-c-k-no/photo.jpg",
      "userId": "112537701770884493684"
     },
     "user_tz": -270
    },
    "id": "MaHOMhsAY983",
    "outputId": "2b0b3c6c-c4bd-49f5-9f87-940ed21e2f9b"
   },
   "outputs": [
    {
     "name": "stdout",
     "output_type": "stream",
     "text": [
      "Downloading data from https://github.com/fchollet/deep-learning-models/releases/download/v0.6/mobilenet_1_0_128_tf_no_top.h5\n",
      "17227776/17225924 [==============================] - 2s 0us/step\n"
     ]
    }
   ],
   "source": [
    "from keras.applications.mobilenet import MobileNet\n",
    "model = MobileNet(weights='imagenet',include_top= False,input_shape = (128,128,3))"
   ]
  },
  {
   "cell_type": "code",
   "execution_count": 0,
   "metadata": {
    "colab": {
     "autoexec": {
      "startup": false,
      "wait_interval": 0
     }
    },
    "colab_type": "code",
    "id": "hCOF5dHRY989"
   },
   "outputs": [],
   "source": [
    "model.summary()"
   ]
  },
  {
   "cell_type": "markdown",
   "metadata": {
    "colab_type": "text",
    "id": "s6US1MdXY99A"
   },
   "source": [
    "### 2. try to freeze just all of the layers in model included above. look at slides if you need"
   ]
  },
  {
   "cell_type": "code",
   "execution_count": 26,
   "metadata": {
    "colab": {
     "autoexec": {
      "startup": false,
      "wait_interval": 0
     },
     "base_uri": "https://localhost:8080/",
     "height": 34
    },
    "colab_type": "code",
    "executionInfo": {
     "elapsed": 867,
     "status": "ok",
     "timestamp": 1533211149893,
     "user": {
      "displayName": "Mohammad Doosti Lakhani",
      "photoUrl": "//lh5.googleusercontent.com/-UVQKn-_bjas/AAAAAAAAAAI/AAAAAAAAACc/Nr22-zVsFzc/s50-c-k-no/photo.jpg",
      "userId": "112537701770884493684"
     },
     "user_tz": -270
    },
    "id": "-5D8Fs6rgV4V",
    "outputId": "f39a1dd1-8507-4810-aa5f-a00d8f8ccf26"
   },
   "outputs": [
    {
     "data": {
      "text/plain": [
       "102"
      ]
     },
     "execution_count": 26,
     "metadata": {
      "tags": []
     },
     "output_type": "execute_result"
    }
   ],
   "source": [
    "len(model.layers)"
   ]
  },
  {
   "cell_type": "code",
   "execution_count": 0,
   "metadata": {
    "colab": {
     "autoexec": {
      "startup": false,
      "wait_interval": 0
     }
    },
    "colab_type": "code",
    "id": "7_mF-CPtY99A"
   },
   "outputs": [],
   "source": [
    "# Freeze the first five layers which you don't want to train. \n",
    "for i in range(0,len(model.layers)):   ######## You shold change this line ########\n",
    "    model.layers[i] = False"
   ]
  },
  {
   "cell_type": "markdown",
   "metadata": {
    "colab_type": "text",
    "id": "PogU50dJY99C"
   },
   "source": [
    "### 3. Here we are going to attach the new classifier at the end of pretrained model. This is a new technique whcih we are going to explore more.\n",
    "- Flatten Layer\n",
    "- Desne Layer: units: 1024, activation = \"relu\"\n",
    "- Dropout: rate = 0.5\n",
    "- Desne Layer: units: 512, activation = \"relu\"\n",
    "- Desne Layer: units: 2, activation = \"softamax\""
   ]
  },
  {
   "cell_type": "code",
   "execution_count": 0,
   "metadata": {
    "colab": {
     "autoexec": {
      "startup": false,
      "wait_interval": 0
     }
    },
    "colab_type": "code",
    "id": "L2wyWbImY99D"
   },
   "outputs": [],
   "source": [
    "#Adding custom Layers \n",
    "x = model.output\n",
    "x = Flatten()(x)\n",
    "x = Dense(1024, activation='relu', use_bias=True)(x)\n",
    "x = Dropout(0.5)(x)\n",
    "x = Dense(512, activation='relu', use_bias=True)(x)\n",
    "x = Dense(2, activation='softmax', use_bias=True)(x)"
   ]
  },
  {
   "cell_type": "code",
   "execution_count": 0,
   "metadata": {
    "colab": {
     "autoexec": {
      "startup": false,
      "wait_interval": 0
     }
    },
    "colab_type": "code",
    "id": "v-3oJxeEY99F"
   },
   "outputs": [],
   "source": [
    "# creating the final model \n",
    "model_final = Model(inputs = model.input, outputs = x)"
   ]
  },
  {
   "cell_type": "code",
   "execution_count": 0,
   "metadata": {
    "colab": {
     "autoexec": {
      "startup": false,
      "wait_interval": 0
     }
    },
    "colab_type": "code",
    "id": "2fgBJEC4Y99H"
   },
   "outputs": [],
   "source": [
    "model_final.summary()"
   ]
  },
  {
   "cell_type": "code",
   "execution_count": 0,
   "metadata": {
    "colab": {
     "autoexec": {
      "startup": false,
      "wait_interval": 0
     }
    },
    "colab_type": "code",
    "id": "egSEup5ZY99K"
   },
   "outputs": [],
   "source": [
    "# compile the model \n",
    "model_final.compile(loss = \"categorical_crossentropy\", optimizer = optimizers.SGD(lr=0.0001, momentum=0.9), metrics=[\"accuracy\"])"
   ]
  },
  {
   "cell_type": "markdown",
   "metadata": {
    "colab_type": "text",
    "id": "bFsSOXwCY99M"
   },
   "source": [
    "### 4. Define a data augmentator as presented in CNN hands-on slides according to the following parameters:\n",
    "- rescale = 1./255\n",
    "- horizontal_flip = True\n",
    "- fill_mode = \"nearest\"\n",
    "- zoom_range = 0.6\n",
    "- width_shift_range = 0.2\n",
    "- height_shift_range=0.4\n",
    "- rotation_range=25"
   ]
  },
  {
   "cell_type": "code",
   "execution_count": 0,
   "metadata": {
    "colab": {
     "autoexec": {
      "startup": false,
      "wait_interval": 0
     }
    },
    "colab_type": "code",
    "id": "eLYq9uO8Y99N"
   },
   "outputs": [],
   "source": [
    "# This an augmentator for test dataset\n",
    "train_datagen = ImageDataGenerator(rescale = 1./255,\n",
    "                    horizontal_flip = True,\n",
    "                    fill_mode = \"nearest\",\n",
    "                    zoom_range = 0.6,\n",
    "                    width_shift_range = 0.2,\n",
    "                    height_shift_range=0.4,\n",
    "                    rotation_range=25)\n",
    "\n",
    "\n",
    "valid_datagen = ImageDataGenerator(rescale = 1./255,\n",
    "                    horizontal_flip = True,\n",
    "                    fill_mode = \"nearest\",\n",
    "                    zoom_range = 0.6,\n",
    "                    width_shift_range = 0.2,\n",
    "                    height_shift_range=0.4,\n",
    "                    rotation_range=25)"
   ]
  },
  {
   "cell_type": "code",
   "execution_count": 0,
   "metadata": {
    "colab": {
     "autoexec": {
      "startup": false,
      "wait_interval": 0
     }
    },
    "colab_type": "code",
    "id": "XvwTkUwgY99Q"
   },
   "outputs": [],
   "source": []
  },
  {
   "cell_type": "markdown",
   "metadata": {
    "colab_type": "text",
    "id": "3APePLnfY99S"
   },
   "source": [
    "### 5. in This section, What we are going to do is to create a dataloader for loading data along with augmentator.\n",
    "1. Train Loader Setting\n",
    "\n",
    "    - directory = train_data_dir\n",
    "    - target_size = (img_height, img_width)\n",
    "    - batch_size = batch_size\n",
    "    - class_mode = \"categorical\"\n",
    "\n",
    "\n",
    "----------------------------------------------------------\n",
    "2. Test Loader Setting\n",
    "\n",
    "    - directory = validation_data_dir,\n",
    "    - target_size = (img_height, img_width)\n",
    "    - class_mode = \"categorical\""
   ]
  },
  {
   "cell_type": "code",
   "execution_count": 70,
   "metadata": {
    "colab": {
     "autoexec": {
      "startup": false,
      "wait_interval": 0
     },
     "base_uri": "https://localhost:8080/",
     "height": 34
    },
    "colab_type": "code",
    "executionInfo": {
     "elapsed": 977,
     "status": "ok",
     "timestamp": 1533213323983,
     "user": {
      "displayName": "Mohammad Doosti Lakhani",
      "photoUrl": "//lh5.googleusercontent.com/-UVQKn-_bjas/AAAAAAAAAAI/AAAAAAAAACc/Nr22-zVsFzc/s50-c-k-no/photo.jpg",
      "userId": "112537701770884493684"
     },
     "user_tz": -270
    },
    "id": "jOl9gRGrY99U",
    "outputId": "aaf8d898-c2fa-4d99-b033-17422a096726"
   },
   "outputs": [
    {
     "name": "stdout",
     "output_type": "stream",
     "text": [
      "Found 244 images belonging to 2 classes.\n"
     ]
    }
   ],
   "source": [
    "train_generator = train_datagen.flow_from_directory(\n",
    "        directory = train_data_dir,\n",
    "        target_size = (img_height, img_width),\n",
    "        batch_size = batch_size,\n",
    "        class_mode = \"categorical\")\n"
   ]
  },
  {
   "cell_type": "code",
   "execution_count": 76,
   "metadata": {
    "colab": {
     "autoexec": {
      "startup": false,
      "wait_interval": 0
     },
     "base_uri": "https://localhost:8080/",
     "height": 34
    },
    "colab_type": "code",
    "executionInfo": {
     "elapsed": 844,
     "status": "ok",
     "timestamp": 1533213518181,
     "user": {
      "displayName": "Mohammad Doosti Lakhani",
      "photoUrl": "//lh5.googleusercontent.com/-UVQKn-_bjas/AAAAAAAAAAI/AAAAAAAAACc/Nr22-zVsFzc/s50-c-k-no/photo.jpg",
      "userId": "112537701770884493684"
     },
     "user_tz": -270
    },
    "id": "vy1NGosho9OC",
    "outputId": "4128cce6-9019-44ea-bab3-50dbba2e56c8"
   },
   "outputs": [
    {
     "name": "stdout",
     "output_type": "stream",
     "text": [
      "Found 153 images belonging to 2 classes.\n"
     ]
    }
   ],
   "source": [
    "valid_generator = valid_datagen.flow_from_directory(\n",
    "        directory = validation_data_dir,\n",
    "        target_size = (img_height, img_width),\n",
    "        batch_size = batch_size,\n",
    "        class_mode = \"categorical\")\n"
   ]
  },
  {
   "cell_type": "code",
   "execution_count": 0,
   "metadata": {
    "colab": {
     "autoexec": {
      "startup": false,
      "wait_interval": 0
     }
    },
    "colab_type": "code",
    "id": "ZehVFyflY99a"
   },
   "outputs": [],
   "source": [
    "# Save the model according to the conditions  \n",
    "checkpoint = ModelCheckpoint(\"vgg16_1.h5\", monitor='val_acc', verbose=1, save_best_only=True, save_weights_only=False, mode='auto', period=1)\n",
    "early = EarlyStopping(monitor='val_acc', min_delta=0, patience=10, verbose=1, mode='auto')"
   ]
  },
  {
   "cell_type": "code",
   "execution_count": 79,
   "metadata": {
    "colab": {
     "autoexec": {
      "startup": false,
      "wait_interval": 0
     },
     "base_uri": "https://localhost:8080/",
     "height": 2859
    },
    "colab_type": "code",
    "executionInfo": {
     "elapsed": 1202862,
     "status": "ok",
     "timestamp": 1533214753179,
     "user": {
      "displayName": "Mohammad Doosti Lakhani",
      "photoUrl": "//lh5.googleusercontent.com/-UVQKn-_bjas/AAAAAAAAAAI/AAAAAAAAACc/Nr22-zVsFzc/s50-c-k-no/photo.jpg",
      "userId": "112537701770884493684"
     },
     "user_tz": -270
    },
    "id": "l0_1uLD2Y99d",
    "outputId": "a6b1c3a9-da11-4e0d-af18-c45139dd1cc2"
   },
   "outputs": [
    {
     "name": "stderr",
     "output_type": "stream",
     "text": [
      "/usr/local/lib/python3.6/dist-packages/ipykernel_launcher.py:6: UserWarning: The semantics of the Keras 2 argument `steps_per_epoch` is not the same as the Keras 1 argument `samples_per_epoch`. `steps_per_epoch` is the number of batches to draw from the generator at each epoch. Basically steps_per_epoch = samples_per_epoch/batch_size. Similarly `nb_val_samples`->`validation_steps` and `val_samples`->`steps` arguments have changed. Update your method calls accordingly.\n",
      "  \n",
      "/usr/local/lib/python3.6/dist-packages/ipykernel_launcher.py:6: UserWarning: Update your `fit_generator` call to the Keras 2 API: `fit_generator(<keras.pre..., epochs=50, validation_data=<keras.pre..., callbacks=[<keras.ca..., steps_per_epoch=15, validation_steps=153)`\n",
      "  \n"
     ]
    },
    {
     "name": "stdout",
     "output_type": "stream",
     "text": [
      "Epoch 1/50\n",
      "15/15 [==============================] - 35s 2s/step - loss: 1.2485 - acc: 0.5217 - val_loss: 0.8491 - val_acc: 0.5830\n",
      "\n",
      "Epoch 00001: val_acc improved from -inf to 0.58301, saving model to vgg16_1.h5\n",
      "Epoch 2/50\n",
      "15/15 [==============================] - 29s 2s/step - loss: 1.2166 - acc: 0.4908 - val_loss: 0.6597 - val_acc: 0.6714\n",
      "\n",
      "Epoch 00002: val_acc improved from 0.58301 to 0.67136, saving model to vgg16_1.h5\n",
      "Epoch 3/50\n",
      "15/15 [==============================] - 29s 2s/step - loss: 0.9619 - acc: 0.5987 - val_loss: 0.5806 - val_acc: 0.7157\n",
      "\n",
      "Epoch 00003: val_acc improved from 0.67136 to 0.71575, saving model to vgg16_1.h5\n",
      "Epoch 4/50\n",
      "15/15 [==============================] - 29s 2s/step - loss: 0.8450 - acc: 0.6583 - val_loss: 0.5650 - val_acc: 0.7315\n",
      "\n",
      "Epoch 00004: val_acc improved from 0.71575 to 0.73154, saving model to vgg16_1.h5\n",
      "Epoch 5/50\n",
      "15/15 [==============================] - 29s 2s/step - loss: 0.8990 - acc: 0.5890 - val_loss: 0.6283 - val_acc: 0.7239\n",
      "\n",
      "Epoch 00005: val_acc did not improve from 0.73154\n",
      "Epoch 6/50\n",
      "15/15 [==============================] - 29s 2s/step - loss: 0.7612 - acc: 0.6748 - val_loss: 0.5668 - val_acc: 0.7332\n",
      "\n",
      "Epoch 00006: val_acc improved from 0.73154 to 0.73325, saving model to vgg16_1.h5\n",
      "Epoch 7/50\n",
      "15/15 [==============================] - 29s 2s/step - loss: 0.6040 - acc: 0.7241 - val_loss: 0.5420 - val_acc: 0.7653\n",
      "\n",
      "Epoch 00007: val_acc improved from 0.73325 to 0.76526, saving model to vgg16_1.h5\n",
      "Epoch 8/50\n",
      "12/15 [=======================>......] - ETA: 0s - loss: 0.7423 - acc: 0.682315/15 [==============================] - 30s 2s/step - loss: 0.7908 - acc: 0.6750 - val_loss: 0.4919 - val_acc: 0.7704\n",
      "\n",
      "Epoch 00008: val_acc improved from 0.76526 to 0.77038, saving model to vgg16_1.h5\n",
      "Epoch 9/50\n",
      "15/15 [==============================] - 29s 2s/step - loss: 0.7772 - acc: 0.6748 - val_loss: 0.4763 - val_acc: 0.7802\n",
      "\n",
      "Epoch 00009: val_acc improved from 0.77038 to 0.78020, saving model to vgg16_1.h5\n",
      "Epoch 10/50\n",
      "15/15 [==============================] - 29s 2s/step - loss: 0.6288 - acc: 0.7575 - val_loss: 0.4973 - val_acc: 0.7695\n",
      "\n",
      "Epoch 00010: val_acc did not improve from 0.78020\n",
      "Epoch 11/50\n",
      "15/15 [==============================] - 29s 2s/step - loss: 0.7777 - acc: 0.6833 - val_loss: 0.4836 - val_acc: 0.7682\n",
      "\n",
      "Epoch 00011: val_acc did not improve from 0.78020\n",
      "Epoch 12/50\n",
      "15/15 [==============================] - 29s 2s/step - loss: 0.6729 - acc: 0.7148 - val_loss: 0.5412 - val_acc: 0.7593\n",
      "\n",
      "Epoch 00012: val_acc did not improve from 0.78020\n",
      "Epoch 13/50\n",
      "15/15 [==============================] - 29s 2s/step - loss: 0.5919 - acc: 0.7292 - val_loss: 0.4781 - val_acc: 0.7721\n",
      "\n",
      "Epoch 00013: val_acc did not improve from 0.78020\n",
      "Epoch 14/50\n",
      "15/15 [==============================] - 29s 2s/step - loss: 0.6027 - acc: 0.7416 - val_loss: 0.4551 - val_acc: 0.7892\n",
      "\n",
      "Epoch 00014: val_acc improved from 0.78020 to 0.78916, saving model to vgg16_1.h5\n",
      "Epoch 15/50\n",
      "15/15 [==============================] - 29s 2s/step - loss: 0.5688 - acc: 0.7416 - val_loss: 0.4573 - val_acc: 0.8062\n",
      "\n",
      "Epoch 00015: val_acc improved from 0.78916 to 0.80623, saving model to vgg16_1.h5\n",
      "Epoch 16/50\n",
      " 2/15 [===>..........................] - ETA: 1s - loss: 0.8281 - acc: 0.593815/15 [==============================] - 29s 2s/step - loss: 0.5954 - acc: 0.7082 - val_loss: 0.4442 - val_acc: 0.8079\n",
      "\n",
      "Epoch 00016: val_acc improved from 0.80623 to 0.80794, saving model to vgg16_1.h5\n",
      "Epoch 17/50\n",
      "15/15 [==============================] - 28s 2s/step - loss: 0.5033 - acc: 0.7708 - val_loss: 0.4264 - val_acc: 0.8118\n",
      "\n",
      "Epoch 00017: val_acc improved from 0.80794 to 0.81178, saving model to vgg16_1.h5\n",
      "Epoch 18/50\n",
      "15/15 [==============================] - 29s 2s/step - loss: 0.5799 - acc: 0.7416 - val_loss: 0.4390 - val_acc: 0.8028\n",
      "\n",
      "Epoch 00018: val_acc did not improve from 0.81178\n",
      "Epoch 19/50\n",
      "15/15 [==============================] - 29s 2s/step - loss: 0.6328 - acc: 0.7349 - val_loss: 0.4132 - val_acc: 0.8160\n",
      "\n",
      "Epoch 00019: val_acc improved from 0.81178 to 0.81605, saving model to vgg16_1.h5\n",
      "Epoch 20/50\n",
      "15/15 [==============================] - 29s 2s/step - loss: 0.6344 - acc: 0.7375 - val_loss: 0.4148 - val_acc: 0.8054\n",
      "\n",
      "Epoch 00020: val_acc did not improve from 0.81605\n",
      "Epoch 21/50\n",
      "15/15 [==============================] - 30s 2s/step - loss: 0.4885 - acc: 0.8167 - val_loss: 0.4223 - val_acc: 0.8105\n",
      "\n",
      "Epoch 00021: val_acc did not improve from 0.81605\n",
      "Epoch 22/50\n",
      "15/15 [==============================] - 30s 2s/step - loss: 0.5178 - acc: 0.7776 - val_loss: 0.4301 - val_acc: 0.8028\n",
      "\n",
      "Epoch 00022: val_acc did not improve from 0.81605\n",
      "Epoch 23/50\n",
      "15/15 [==============================] - 29s 2s/step - loss: 0.4706 - acc: 0.8292 - val_loss: 0.4331 - val_acc: 0.8050\n",
      "\n",
      "Epoch 00023: val_acc did not improve from 0.81605\n",
      "Epoch 24/50\n",
      " 1/15 [=>............................] - ETA: 1s - loss: 0.7123 - acc: 0.750015/15 [==============================] - 29s 2s/step - loss: 0.6524 - acc: 0.7341 - val_loss: 0.4510 - val_acc: 0.8037\n",
      "\n",
      "Epoch 00024: val_acc did not improve from 0.81605\n",
      "Epoch 25/50\n",
      "15/15 [==============================] - 29s 2s/step - loss: 0.5212 - acc: 0.7910 - val_loss: 0.4071 - val_acc: 0.8190\n",
      "\n",
      "Epoch 00025: val_acc improved from 0.81605 to 0.81904, saving model to vgg16_1.h5\n",
      "Epoch 26/50\n",
      "15/15 [==============================] - 29s 2s/step - loss: 0.4066 - acc: 0.8411 - val_loss: 0.4720 - val_acc: 0.7960\n",
      "\n",
      "Epoch 00026: val_acc did not improve from 0.81904\n",
      "Epoch 27/50\n",
      "15/15 [==============================] - 29s 2s/step - loss: 0.5890 - acc: 0.7383 - val_loss: 0.4047 - val_acc: 0.8263\n",
      "\n",
      "Epoch 00027: val_acc improved from 0.81904 to 0.82629, saving model to vgg16_1.h5\n",
      "Epoch 28/50\n",
      "15/15 [==============================] - 29s 2s/step - loss: 0.3774 - acc: 0.8161 - val_loss: 0.4152 - val_acc: 0.8289\n",
      "\n",
      "Epoch 00028: val_acc improved from 0.82629 to 0.82885, saving model to vgg16_1.h5\n",
      "Epoch 29/50\n",
      "15/15 [==============================] - 29s 2s/step - loss: 0.4538 - acc: 0.7801 - val_loss: 0.4305 - val_acc: 0.8186\n",
      "\n",
      "Epoch 00029: val_acc did not improve from 0.82885\n",
      "Epoch 30/50\n",
      "15/15 [==============================] - 29s 2s/step - loss: 0.4034 - acc: 0.8414 - val_loss: 0.3868 - val_acc: 0.8382\n",
      "\n",
      "Epoch 00030: val_acc improved from 0.82885 to 0.83824, saving model to vgg16_1.h5\n",
      "Epoch 31/50\n",
      "15/15 [==============================] - 29s 2s/step - loss: 0.4488 - acc: 0.8083 - val_loss: 0.4093 - val_acc: 0.8224\n",
      "\n",
      "Epoch 00031: val_acc did not improve from 0.83824\n",
      "Epoch 32/50\n",
      " 2/15 [===>..........................] - ETA: 1s - loss: 0.3583 - acc: 0.875015/15 [==============================] - 29s 2s/step - loss: 0.4552 - acc: 0.7918 - val_loss: 0.4152 - val_acc: 0.8186\n",
      "\n",
      "Epoch 00032: val_acc did not improve from 0.83824\n",
      "Epoch 33/50\n",
      "15/15 [==============================] - 28s 2s/step - loss: 0.4105 - acc: 0.8252 - val_loss: 0.3961 - val_acc: 0.8254\n",
      "\n",
      "Epoch 00033: val_acc did not improve from 0.83824\n",
      "Epoch 34/50\n",
      "15/15 [==============================] - 29s 2s/step - loss: 0.4323 - acc: 0.7952 - val_loss: 0.3979 - val_acc: 0.8284\n",
      "\n",
      "Epoch 00034: val_acc did not improve from 0.83824\n",
      "Epoch 35/50\n",
      "15/15 [==============================] - 29s 2s/step - loss: 0.3381 - acc: 0.8750 - val_loss: 0.4063 - val_acc: 0.8182\n",
      "\n",
      "Epoch 00035: val_acc did not improve from 0.83824\n",
      "Epoch 36/50\n",
      "15/15 [==============================] - 29s 2s/step - loss: 0.3699 - acc: 0.8085 - val_loss: 0.4527 - val_acc: 0.8028\n",
      "\n",
      "Epoch 00036: val_acc did not improve from 0.83824\n",
      "Epoch 37/50\n",
      "15/15 [==============================] - 29s 2s/step - loss: 0.3304 - acc: 0.8364 - val_loss: 0.3873 - val_acc: 0.8318\n",
      "\n",
      "Epoch 00037: val_acc did not improve from 0.83824\n",
      "Epoch 38/50\n",
      "15/15 [==============================] - 29s 2s/step - loss: 0.4274 - acc: 0.8202 - val_loss: 0.3761 - val_acc: 0.8353\n",
      "\n",
      "Epoch 00038: val_acc did not improve from 0.83824\n",
      "Epoch 39/50\n",
      "15/15 [==============================] - 29s 2s/step - loss: 0.4019 - acc: 0.8375 - val_loss: 0.4087 - val_acc: 0.8254\n",
      "\n",
      "Epoch 00039: val_acc did not improve from 0.83824\n",
      "Epoch 40/50\n",
      " 8/15 [===============>..............] - ETA: 0s - loss: 0.4597 - acc: 0.789115/15 [==============================] - 29s 2s/step - loss: 0.3524 - acc: 0.8470 - val_loss: 0.3752 - val_acc: 0.8314\n",
      "\n",
      "Epoch 00040: val_acc did not improve from 0.83824\n",
      "Epoch 00040: early stopping\n"
     ]
    },
    {
     "data": {
      "text/plain": [
       "<keras.callbacks.History at 0x7fd996854940>"
      ]
     },
     "execution_count": 79,
     "metadata": {
      "tags": []
     },
     "output_type": "execute_result"
    }
   ],
   "source": [
    "# Train the model \n",
    "model_final.fit_generator(train_generator,\n",
    "        samples_per_epoch = nb_train_samples,\n",
    "        epochs = epochs,\n",
    "        validation_data = valid_generator,\n",
    "        nb_val_samples = nb_validation_samples,\n",
    "        callbacks = [checkpoint, early])"
   ]
  },
  {
   "cell_type": "code",
   "execution_count": 0,
   "metadata": {
    "colab": {
     "autoexec": {
      "startup": false,
      "wait_interval": 0
     }
    },
    "colab_type": "code",
    "id": "-iSLGkKtY99g"
   },
   "outputs": [],
   "source": []
  }
 ],
 "metadata": {
  "accelerator": "GPU",
  "colab": {
   "default_view": {},
   "name": "3. CNN Hands-on.ipynb",
   "provenance": [],
   "version": "0.3.2",
   "views": {}
  },
  "kernelspec": {
   "display_name": "Python 3",
   "language": "python",
   "name": "python3"
  },
  "language_info": {
   "codemirror_mode": {
    "name": "ipython",
    "version": 3
   },
   "file_extension": ".py",
   "mimetype": "text/x-python",
   "name": "python",
   "nbconvert_exporter": "python",
   "pygments_lexer": "ipython3",
   "version": "3.6.6"
  }
 },
 "nbformat": 4,
 "nbformat_minor": 1
}
